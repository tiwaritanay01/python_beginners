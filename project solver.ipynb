{
 "cells": [
  {
   "cell_type": "code",
   "execution_count": 1,
   "metadata": {},
   "outputs": [
    {
     "name": "stdout",
     "output_type": "stream",
     "text": [
      "x = 6.0, y = 4.0\n"
     ]
    }
   ],
   "source": [
    "import kiwisolver as kiwi\n",
    "\n",
    "# Create some variables\n",
    "x = kiwi.Variable('x')\n",
    "y = kiwi.Variable('y')\n",
    "\n",
    "# Create a solver instance\n",
    "solver = kiwi.Solver()\n",
    "\n",
    "# Add constraints\n",
    "solver.addConstraint(x + y == 10)\n",
    "solver.addConstraint(x - y == 2)\n",
    "\n",
    "# Solve the constraints\n",
    "solver.updateVariables()\n",
    "\n",
    "# Print the solution\n",
    "print(f'x = {x.value()}, y = {y.value()}')\n"
   ]
  },
  {
   "cell_type": "code",
   "execution_count": null,
   "metadata": {},
   "outputs": [],
   "source": []
  }
 ],
 "metadata": {
  "kernelspec": {
   "display_name": "Python 3",
   "language": "python",
   "name": "python3"
  },
  "language_info": {
   "codemirror_mode": {
    "name": "ipython",
    "version": 3
   },
   "file_extension": ".py",
   "mimetype": "text/x-python",
   "name": "python",
   "nbconvert_exporter": "python",
   "pygments_lexer": "ipython3",
   "version": "3.8.3"
  }
 },
 "nbformat": 4,
 "nbformat_minor": 4
}
