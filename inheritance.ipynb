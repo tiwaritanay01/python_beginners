{
 "cells": [
  {
   "cell_type": "code",
   "execution_count": 1,
   "metadata": {},
   "outputs": [
    {
     "name": "stdout",
     "output_type": "stream",
     "text": [
      "mike olsen\n",
      "mike olsen 12345 2019\n",
      "welcome mike olsen to class of  2019 your enrollment nummber is  12345\n"
     ]
    }
   ],
   "source": [
    "class person:\n",
    "    def __init__(self, fname, lname): #constructor \n",
    "        self.firstname = fname\n",
    "        self.lastname = lname   ##initialization is required in a constructor\n",
    "    def printname(self):\n",
    "        print(self.firstname, self.lastname)\n",
    "\n",
    "class student(person):\n",
    "    def __init__(self, fname, lname, student_id,graduation_year): #new positional argument is added to the constructor\n",
    "        super().__init__(fname, lname)  #automaticaly inherits parents class by super()  \n",
    "        person.__init__(self,fname,lname) # Call the parent class's __init__ if we write pass instead of super() child class cannot create its own logic and attributes          \n",
    "        self.student_id = student_id # Additional attribute for student\n",
    "        self.graduation_year = graduation_year\n",
    "       \n",
    "    def printstudent(self):\n",
    "        print(self.firstname, self.lastname, self.student_id,self.graduation_year)\n",
    "    def welcome(self):\n",
    "        print(\"welcome\", self.firstname ,self.lastname , \"to class of \" , self.graduation_year, \"your enrollment nummber is \", self.student_id )\n",
    "\n",
    "# Creating an instance of student\n",
    "x = student(\"mike\", \"olsen\", \"12345\", \"2019\")\n",
    "x.printname()       # This works, inherited from person\n",
    "x.printstudent()    # This works, defined in student\n",
    "x.welcome()"
   ]
  },
  {
   "cell_type": "code",
   "execution_count": 1,
   "metadata": {},
   "outputs": [
    {
     "name": "stdout",
     "output_type": "stream",
     "text": [
      "apple\n",
      "mango\n",
      "banana\n"
     ]
    }
   ],
   "source": [
    "mytuple = (\"apple\",\"mango\",\"banana\")\n",
    "myit = iter(mytuple)\n",
    "print(next(myit))\n",
    "print(next(myit))\n",
    "print(next(myit))"
   ]
  },
  {
   "cell_type": "code",
   "execution_count": 4,
   "metadata": {},
   "outputs": [
    {
     "name": "stdout",
     "output_type": "stream",
     "text": [
      "b\n",
      "a\n",
      "n\n",
      "a\n",
      "n\n",
      "a\n",
      "b\n",
      "a\n",
      "n\n",
      "a\n",
      "n\n",
      "a\n"
     ]
    }
   ],
   "source": [
    "mystr = \"banana\"\n",
    "myit = iter(mystr)\n",
    "\n",
    "print(next(myit))\n",
    "print(next(myit))\n",
    "print(next(myit))\n",
    "print(next(myit))\n",
    "print(next(myit))\n",
    "print(next(myit))\n",
    "\n",
    "for x in mystr:\n",
    "    print(x)"
   ]
  },
  {
   "cell_type": "code",
   "execution_count": 13,
   "metadata": {},
   "outputs": [
    {
     "name": "stdout",
     "output_type": "stream",
     "text": [
      "1\n",
      "2\n",
      "3\n",
      "4\n",
      "5\n",
      "6\n",
      "7\n",
      "8\n",
      "9\n",
      "10\n",
      "11\n",
      "12\n",
      "13\n",
      "14\n",
      "15\n",
      "16\n",
      "17\n",
      "18\n",
      "19\n",
      "20\n"
     ]
    }
   ],
   "source": [
    "class mynumbers:\n",
    "    def __iter__(self):\n",
    "        self.a=1\n",
    "        return self\n",
    "    def __next__(self):\n",
    "        if self.a <= 20:\n",
    "            x = self.a\n",
    "            self.a += 1\n",
    "            return x\n",
    "        else:\n",
    "            \n",
    "            raise StopIteration\n",
    "myclass = mynumbers()\n",
    "myiter = iter(myclass)\n",
    "\n",
    "for x in myiter:\n",
    "    print(x)"
   ]
  },
  {
   "cell_type": "code",
   "execution_count": 20,
   "metadata": {},
   "outputs": [
    {
     "name": "stdout",
     "output_type": "stream",
     "text": [
      "Drive !\n",
      "sail !\n",
      "Fly !\n"
     ]
    }
   ],
   "source": [
    "#class polymorphism\n",
    "class Car:\n",
    "    def __init__(self,brand,model):\n",
    "        \n",
    "        self.brand = brand\n",
    "        self.model = model\n",
    "        \n",
    "    def move(self):\n",
    "        print(\"Drive !\")\n",
    "        \n",
    "class Boat:\n",
    "    def __init__(self,brand,model):\n",
    "        \n",
    "        self.brand = brand\n",
    "        self.model = model\n",
    "        \n",
    "    def move(self):\n",
    "        print(\"sail !\")\n",
    "        \n",
    "class Aeroplane:\n",
    "    def __init__(self,brand,model):\n",
    "        \n",
    "        self.brand = brand\n",
    "        self.model = model\n",
    "        \n",
    "    def move(self):\n",
    "        print(\"Fly !\")\n",
    "        \n",
    "car1 = Car(\"Ford\",\"mustang\") #here class names should be called before calling the tuple\n",
    "boat1 = Boat(\"ibiza\",\"touring 20\")\n",
    "aeroplane1 = Aeroplane( \"boeing\" , \"787\")\n",
    "\n",
    "for x in (car1 , boat1 , aeroplane1 ):\n",
    "    x.move()"
   ]
  },
  {
   "cell_type": "code",
   "execution_count": 24,
   "metadata": {},
   "outputs": [
    {
     "name": "stdout",
     "output_type": "stream",
     "text": [
      "Ford\n",
      "Mustang\n",
      "Move!\n",
      "Ibiza\n",
      "T20\n",
      "Sail!\n",
      "Boeing\n",
      "787\n",
      "Fly !\n"
     ]
    }
   ],
   "source": [
    "class Vehicle:\n",
    "    def __init__(self,brand,model):\n",
    "        \n",
    "        self.brand = brand\n",
    "        self.model = model\n",
    "    def move(self):\n",
    "        print(\"Move!\")\n",
    "        \n",
    "class Car(Vehicle):\n",
    "    pass\n",
    "\n",
    "class Boat(Vehicle):\n",
    "    def move(self):\n",
    "        print(\"Sail!\")\n",
    "        \n",
    "class Plane(Vehicle):\n",
    "    def move(self):\n",
    "        print(\"Fly !\")\n",
    "\n",
    "    \n",
    "car1 = Car(\"Ford\",\"Mustang\")\n",
    "boat1 = Boat(\"Ibiza\", \"T20\")\n",
    "plane1 = Plane(\"Boeing\",\"787\")\n",
    "\n",
    "for x in (car1 , boat1 , plane1):\n",
    "    print(x.brand)\n",
    "    print(x.model)\n",
    "    x.move()\n",
    "    #try inheritance with child and parent multiple classes"
   ]
  },
  {
   "cell_type": "code",
   "execution_count": 2,
   "metadata": {},
   "outputs": [
    {
     "ename": "ModuleNotFoundError",
     "evalue": "No module named 'mymodule'",
     "output_type": "error",
     "traceback": [
      "\u001b[1;31m---------------------------------------------------------------------------\u001b[0m",
      "\u001b[1;31mModuleNotFoundError\u001b[0m                       Traceback (most recent call last)",
      "\u001b[1;32m<ipython-input-2-51e33a754500>\u001b[0m in \u001b[0;36m<module>\u001b[1;34m\u001b[0m\n\u001b[1;32m----> 1\u001b[1;33m \u001b[1;32mimport\u001b[0m \u001b[0mmymodule\u001b[0m\u001b[1;33m.\u001b[0m\u001b[0mpy\u001b[0m\u001b[1;33m\u001b[0m\u001b[1;33m\u001b[0m\u001b[0m\n\u001b[0m\u001b[0;32m      2\u001b[0m \u001b[1;33m\u001b[0m\u001b[0m\n\u001b[0;32m      3\u001b[0m \u001b[0mmymodule\u001b[0m\u001b[1;33m.\u001b[0m\u001b[0mgreeting\u001b[0m\u001b[1;33m(\u001b[0m\u001b[1;34m\"Jonathan\"\u001b[0m\u001b[1;33m)\u001b[0m\u001b[1;33m\u001b[0m\u001b[1;33m\u001b[0m\u001b[0m\n\u001b[0;32m      4\u001b[0m \u001b[1;33m\u001b[0m\u001b[0m\n",
      "\u001b[1;31mModuleNotFoundError\u001b[0m: No module named 'mymodule'"
     ]
    }
   ],
   "source": [
    "import mymodule\n",
    "\n",
    "mymodule.greeting(\"Jonathan\")\n",
    "        "
   ]
  },
  {
   "cell_type": "code",
   "execution_count": 6,
   "metadata": {},
   "outputs": [
    {
     "name": "stdout",
     "output_type": "stream",
     "text": [
      "Windows\n",
      "['_WIN32_CLIENT_RELEASES', '_WIN32_SERVER_RELEASES', '__builtins__', '__cached__', '__copyright__', '__doc__', '__file__', '__loader__', '__name__', '__package__', '__spec__', '__version__', '_comparable_version', '_component_re', '_default_architecture', '_follow_symlinks', '_ironpython26_sys_version_parser', '_ironpython_sys_version_parser', '_java_getprop', '_libc_search', '_mac_ver_xml', '_node', '_norm_version', '_platform', '_platform_cache', '_pypy_sys_version_parser', '_sys_version', '_sys_version_cache', '_sys_version_parser', '_syscmd_file', '_syscmd_uname', '_syscmd_ver', '_uname_cache', '_ver_output', '_ver_stages', 'architecture', 'collections', 'java_ver', 'libc_ver', 'mac_ver', 'machine', 'node', 'os', 'platform', 'processor', 'python_branch', 'python_build', 'python_compiler', 'python_implementation', 'python_revision', 'python_version', 'python_version_tuple', 're', 'release', 'sys', 'system', 'system_alias', 'uname', 'uname_result', 'version', 'win32_edition', 'win32_is_iot', 'win32_ver']\n"
     ]
    }
   ],
   "source": [
    "import platform\n",
    "x = platform.system()\n",
    "print(x)\n",
    "y = dir(platform)\n",
    "print(y)"
   ]
  },
  {
   "cell_type": "code",
   "execution_count": 15,
   "metadata": {},
   "outputs": [
    {
     "name": "stdout",
     "output_type": "stream",
     "text": [
      "2024\n",
      "20\n",
      "June\n",
      "Wednesday\n",
      "06/19/24\n"
     ]
    }
   ],
   "source": [
    "import datetime\n",
    "x = datetime.datetime.now()\n",
    "print(x.year)\n",
    "print(x.strftime(\"%C\"))\n",
    "print(x.strftime(\"%B\"))\n",
    "print(x.strftime(\"%A\"))\n",
    "print(x.strftime(\"%D\"))\n"
   ]
  },
  {
   "cell_type": "code",
   "execution_count": 18,
   "metadata": {},
   "outputs": [
    {
     "name": "stdout",
     "output_type": "stream",
     "text": [
      "5\n",
      "90\n",
      "7.23\n",
      "16\n"
     ]
    }
   ],
   "source": [
    "x = min(5,13,24)\n",
    "y = max(67,89,90)\n",
    "\n",
    "print(x)\n",
    "print(y)\n",
    "\n",
    "z = abs(-7.23)\n",
    "print(z)\n",
    "\n",
    "a = pow(4,2) # output is 4^2 = 16 pow stands for power of\n",
    "print(a)"
   ]
  },
  {
   "cell_type": "code",
   "execution_count": 22,
   "metadata": {},
   "outputs": [
    {
     "name": "stdout",
     "output_type": "stream",
     "text": [
      "9.0\n",
      "2\n",
      "1\n",
      "3.141592653589793\n"
     ]
    }
   ],
   "source": [
    "import math\n",
    "x = math.sqrt(81)\n",
    "print(x)\n",
    "a = math.ceil(1.7) #returns the value more than the number given\n",
    "b = math.floor(1.7)# returns value less than the number given\n",
    "print(a)\n",
    "print(b)\n",
    "\n",
    "y = math.pi\n",
    "print(y)"
   ]
  },
  {
   "cell_type": "code",
   "execution_count": 28,
   "metadata": {},
   "outputs": [
    {
     "name": "stdout",
     "output_type": "stream",
     "text": [
      "John\n"
     ]
    }
   ],
   "source": [
    "\n",
    "import json\n",
    "\n",
    "x = '{\"name\": \"John\", \"age\": 30, \"city\": \"Mumbai\"}'\n",
    "y = json.loads(x)  # Correct usage\n",
    "print(y[\"name\"])  # Output: John"
   ]
  },
  {
   "cell_type": "code",
   "execution_count": 29,
   "metadata": {},
   "outputs": [
    {
     "name": "stdout",
     "output_type": "stream",
     "text": [
      "{\"name\": \"john\", \"age\": 30, \"city\": \"MUmbai\"}\n"
     ]
    }
   ],
   "source": [
    "import json\n",
    "\n",
    "x = {\n",
    "    \"name\": \"john\",\n",
    "    \"age\": 30,\n",
    "    \"city\": \"MUmbai\"\n",
    "    \n",
    "}\n",
    "y = json.dumps(x)\n",
    "print(y)"
   ]
  },
  {
   "cell_type": "code",
   "execution_count": 33,
   "metadata": {},
   "outputs": [
    {
     "name": "stdout",
     "output_type": "stream",
     "text": [
      "{\"name\": \"john\", \"age\": 89, \"city\": \"NYC\"}\n",
      "[\"apple\", \"Mango\"]\n",
      "[\"apple\", \"meta\"]\n",
      "\"Hello\"\n",
      "42\n",
      "true\n",
      "false\n",
      "null\n"
     ]
    }
   ],
   "source": [
    "import json\n",
    "print(json.dumps({\"name\": \"john\", \"age\": 89 , \"city\": \"NYC\"})) #always use dumps not dump\n",
    "print(json.dumps([\"apple\",\"Mango\"]))\n",
    "print(json.dumps((\"apple\",\"meta\")))\n",
    "print(json.dumps(\"Hello\"))\n",
    "print(json.dumps(42))\n",
    "print(json.dumps(True))\n",
    "print(json.dumps(False))\n",
    "print(json.dumps(None))"
   ]
  },
  {
   "cell_type": "code",
   "execution_count": 36,
   "metadata": {},
   "outputs": [
    {
     "name": "stdout",
     "output_type": "stream",
     "text": [
      "{\n",
      "    \"age\"=30. \n",
      "    \"cars\"=[\n",
      "        {\n",
      "            \"model\"=\"BMW 230\". \n",
      "            \"mpg\"=27.5\n",
      "        }. \n",
      "        {\n",
      "            \"model\"=\"Ford Edge\". \n",
      "            \"mpg\"=24.1\n",
      "        }\n",
      "    ]. \n",
      "    \"children\"=[\n",
      "        \"Ann\". \n",
      "        \"Billy\"\n",
      "    ]. \n",
      "    \"divorced\"=false. \n",
      "    \"married\"=true. \n",
      "    \"name\"=\"John\". \n",
      "    \"pets\"=null\n",
      "}\n"
     ]
    }
   ],
   "source": [
    "import json\n",
    "\n",
    "x = {\n",
    "  \"name\": \"John\",\n",
    "  \"age\": 30,\n",
    "  \"married\": True,\n",
    "  \"divorced\": False,\n",
    "  \"children\": (\"Ann\",\"Billy\"),\n",
    "  \"pets\": None,\n",
    "  \"cars\": [\n",
    "    {\"model\": \"BMW 230\", \"mpg\": 27.5},\n",
    "    {\"model\": \"Ford Edge\", \"mpg\": 24.1}\n",
    "  ]\n",
    "}\n",
    "\n",
    "# use four indents to make it easier to read the result:\n",
    "print(json.dumps(x, indent=4 , separators = (\". \" , \"=\") , sort_keys = True))\n"
   ]
  },
  {
   "cell_type": "code",
   "execution_count": 11,
   "metadata": {},
   "outputs": [
    {
     "name": "stdout",
     "output_type": "stream",
     "text": [
      "<re.Match object; span=(0, 17), match='the rain in spain'>\n",
      "<re.Match object; span=(5, 7), match='ai'>\n",
      "[]\n",
      "['the', 'rain', 'in', 'spain']\n",
      "['the', 'rain', 'in spain']\n",
      "the9rain9in9spain\n",
      "the9rain9in spain\n"
     ]
    }
   ],
   "source": [
    "import re\n",
    "txt = \"the rain in spain\"\n",
    "x = re.search(\"^the.*spain$\",txt)\n",
    "print(x)\n",
    "y = re.search(\"ai\" , txt)\n",
    "print(y)\n",
    "z = re.findall(\"portugal\" , txt)\n",
    "print(z)\n",
    "a = re.split(\"\\s\",txt)\n",
    "print(a)\n",
    "b = re.split(\"\\s\",txt,2)\n",
    "print(b)\n",
    "c = re.sub(\"\\s\",\"9\",txt)\n",
    "print(c)\n",
    "d = re.sub(\"\\s\",\"9\",txt,2)\n",
    "print(d)"
   ]
  },
  {
   "cell_type": "code",
   "execution_count": 13,
   "metadata": {},
   "outputs": [
    {
     "ename": "ModuleNotFoundError",
     "evalue": "No module named 'camelcase'",
     "output_type": "error",
     "traceback": [
      "\u001b[1;31m---------------------------------------------------------------------------\u001b[0m",
      "\u001b[1;31mModuleNotFoundError\u001b[0m                       Traceback (most recent call last)",
      "\u001b[1;32m<ipython-input-13-13d13b6e5315>\u001b[0m in \u001b[0;36m<module>\u001b[1;34m\u001b[0m\n\u001b[1;32m----> 1\u001b[1;33m \u001b[1;32mimport\u001b[0m \u001b[0mcamelcase\u001b[0m\u001b[1;33m\u001b[0m\u001b[1;33m\u001b[0m\u001b[0m\n\u001b[0m\u001b[0;32m      2\u001b[0m \u001b[0mc\u001b[0m \u001b[1;33m=\u001b[0m \u001b[0mcamelcase\u001b[0m\u001b[1;33m.\u001b[0m\u001b[0mCamelCase\u001b[0m\u001b[1;33m(\u001b[0m\u001b[1;33m)\u001b[0m\u001b[1;33m\u001b[0m\u001b[1;33m\u001b[0m\u001b[0m\n\u001b[0;32m      3\u001b[0m \u001b[0mtxt\u001b[0m \u001b[1;33m=\u001b[0m \u001b[1;34m\"Hello , World\"\u001b[0m\u001b[1;33m\u001b[0m\u001b[1;33m\u001b[0m\u001b[0m\n\u001b[0;32m      4\u001b[0m \u001b[0mprint\u001b[0m\u001b[1;33m(\u001b[0m\u001b[0mc\u001b[0m\u001b[1;33m.\u001b[0m\u001b[0mHump\u001b[0m\u001b[1;33m(\u001b[0m\u001b[0mtxt\u001b[0m\u001b[1;33m)\u001b[0m\u001b[1;33m)\u001b[0m\u001b[1;33m\u001b[0m\u001b[1;33m\u001b[0m\u001b[0m\n",
      "\u001b[1;31mModuleNotFoundError\u001b[0m: No module named 'camelcase'"
     ]
    }
   ],
   "source": [
    "import camelcase\n",
    "c = camelcase.CamelCase()\n",
    "txt = \"Hello , World\"\n",
    "print(c.Hump(txt))"
   ]
  },
  {
   "cell_type": "code",
   "execution_count": 25,
   "metadata": {},
   "outputs": [
    {
     "ename": "SyntaxError",
     "evalue": "invalid syntax (<ipython-input-25-d242e0651a01>, line 4)",
     "output_type": "error",
     "traceback": [
      "\u001b[1;36m  File \u001b[1;32m\"<ipython-input-25-d242e0651a01>\"\u001b[1;36m, line \u001b[1;32m4\u001b[0m\n\u001b[1;33m    else:# runs the code when there is no error\u001b[0m\n\u001b[1;37m    ^\u001b[0m\n\u001b[1;31mSyntaxError\u001b[0m\u001b[1;31m:\u001b[0m invalid syntax\n"
     ]
    }
   ],
   "source": [
    "r = \"Hello , world\"\n",
    "try: #lets you test block of code for errors\n",
    "    print(r)\n",
    "finally:# runs the code when there is no error\n",
    "    \n",
    "    print(\"an exception occured\")"
   ]
  },
  {
   "cell_type": "code",
   "execution_count": 24,
   "metadata": {},
   "outputs": [
    {
     "name": "stdout",
     "output_type": "stream",
     "text": [
      "an exception occured\n"
     ]
    }
   ],
   "source": [
    "try:\n",
    "    print(Y) # error here is Y is empty\n",
    "except: # lets you handle the error \n",
    "    print(\"an exception occured\") \n",
    "    # else runs the code when there is no error "
   ]
  },
  {
   "cell_type": "code",
   "execution_count": 27,
   "metadata": {},
   "outputs": [
    {
     "name": "stdout",
     "output_type": "stream",
     "text": [
      "variable   X is not defined\n"
     ]
    }
   ],
   "source": [
    "try:\n",
    "    print(X)\n",
    "except NameError:\n",
    "    print(\"variable   X is not defined\")\n",
    "except:\n",
    "    print(\"Something else went wrong\")"
   ]
  },
  {
   "cell_type": "code",
   "execution_count": 32,
   "metadata": {},
   "outputs": [
    {
     "name": "stdout",
     "output_type": "stream",
     "text": [
      "use \"hello\" like this to prevent errors\n",
      "it is a syntax error \n"
     ]
    }
   ],
   "source": [
    "try:\n",
    "    print(hello)\n",
    "except NameError:\n",
    "    print('use \"hello\" like this to prevent errors')\n",
    "    print(\"it is a syntax error \")\n",
    "else :\n",
    "    print(\"no error was found\")"
   ]
  },
  {
   "cell_type": "code",
   "execution_count": 38,
   "metadata": {},
   "outputs": [
    {
     "ename": "Exception",
     "evalue": "Sorry, no numbers below zero",
     "output_type": "error",
     "traceback": [
      "\u001b[1;31m---------------------------------------------------------------------------\u001b[0m",
      "\u001b[1;31mException\u001b[0m                                 Traceback (most recent call last)",
      "\u001b[1;32m<ipython-input-38-38174769ef86>\u001b[0m in \u001b[0;36m<module>\u001b[1;34m\u001b[0m\n\u001b[0;32m      2\u001b[0m \u001b[1;33m\u001b[0m\u001b[0m\n\u001b[0;32m      3\u001b[0m \u001b[1;32mif\u001b[0m \u001b[0mx\u001b[0m \u001b[1;33m<\u001b[0m \u001b[1;36m0\u001b[0m\u001b[1;33m:\u001b[0m\u001b[1;33m\u001b[0m\u001b[1;33m\u001b[0m\u001b[0m\n\u001b[1;32m----> 4\u001b[1;33m     \u001b[1;32mraise\u001b[0m \u001b[0mException\u001b[0m\u001b[1;33m(\u001b[0m\u001b[1;34m\"Sorry, no numbers below zero\"\u001b[0m\u001b[1;33m)\u001b[0m\u001b[1;33m\u001b[0m\u001b[1;33m\u001b[0m\u001b[0m\n\u001b[0m",
      "\u001b[1;31mException\u001b[0m: Sorry, no numbers below zero"
     ]
    }
   ],
   "source": [
    "x = -1\n",
    "\n",
    "if x < 0:\n",
    "    raise Exception(\"Sorry, no numbers below zero\")"
   ]
  },
  {
   "cell_type": "code",
   "execution_count": 39,
   "metadata": {},
   "outputs": [
    {
     "ename": "TypeError",
     "evalue": "Only integers are allowed",
     "output_type": "error",
     "traceback": [
      "\u001b[1;31m---------------------------------------------------------------------------\u001b[0m",
      "\u001b[1;31mTypeError\u001b[0m                                 Traceback (most recent call last)",
      "\u001b[1;32m<ipython-input-39-741dbeb789cd>\u001b[0m in \u001b[0;36m<module>\u001b[1;34m\u001b[0m\n\u001b[0;32m      1\u001b[0m \u001b[0mx\u001b[0m \u001b[1;33m=\u001b[0m \u001b[1;34m\"Hello\"\u001b[0m\u001b[1;33m\u001b[0m\u001b[1;33m\u001b[0m\u001b[0m\n\u001b[0;32m      2\u001b[0m \u001b[1;32mif\u001b[0m \u001b[1;32mnot\u001b[0m \u001b[0mtype\u001b[0m\u001b[1;33m(\u001b[0m\u001b[0mx\u001b[0m\u001b[1;33m)\u001b[0m \u001b[1;32mis\u001b[0m \u001b[0mint\u001b[0m\u001b[1;33m:\u001b[0m\u001b[1;33m\u001b[0m\u001b[1;33m\u001b[0m\u001b[0m\n\u001b[1;32m----> 3\u001b[1;33m     \u001b[1;32mraise\u001b[0m \u001b[0mTypeError\u001b[0m\u001b[1;33m(\u001b[0m\u001b[1;34m\"Only integers are allowed\"\u001b[0m\u001b[1;33m)\u001b[0m\u001b[1;33m\u001b[0m\u001b[1;33m\u001b[0m\u001b[0m\n\u001b[0m",
      "\u001b[1;31mTypeError\u001b[0m: Only integers are allowed"
     ]
    }
   ],
   "source": [
    "x = \"Hello\"\n",
    "if not type(x) is int:\n",
    "    raise TypeError(\"Only integers are allowed\")"
   ]
  },
  {
   "cell_type": "code",
   "execution_count": 41,
   "metadata": {},
   "outputs": [
    {
     "data": {
      "application/vnd.jupyter.widget-view+json": {
       "model_id": "58697984a0b446c6974ab71cb7e3e033",
       "version_major": 2,
       "version_minor": 0
      },
      "text/plain": [
       "Text(value='', description='Input:', placeholder='Type something')"
      ]
     },
     "metadata": {},
     "output_type": "display_data"
    },
    {
     "name": "stdout",
     "output_type": "stream",
     "text": [
      "You entered: t\n",
      "You entered: ta\n",
      "You entered: tan\n",
      "You entered: tana\n",
      "You entered: tanay\n",
      "You entered: tana\n",
      "You entered: tan\n",
      "You entered: ta\n",
      "You entered: t\n",
      "You entered: \n"
     ]
    }
   ],
   "source": [
    "import ipywidgets as widgets\n",
    "from IPython.display import display\n",
    "\n",
    "text_box = widgets.Text(\n",
    "    value='',\n",
    "    placeholder='Type something',\n",
    "    description='Input:',\n",
    "    disabled=False\n",
    ")\n",
    "\n",
    "def on_submit(change):\n",
    "    print(f\"You entered: {change['new']}\")\n",
    "\n",
    "text_box.observe(on_submit, names='value')\n",
    "\n",
    "display(text_box)"
   ]
  },
  {
   "cell_type": "code",
   "execution_count": 48,
   "metadata": {},
   "outputs": [
    {
     "name": "stdout",
     "output_type": "stream",
     "text": [
      " i have 49 dollars\n",
      "the price is 45.000 dollars\n"
     ]
    }
   ],
   "source": [
    "txt = f\" i have 49 dollars\"\n",
    "print(txt)\n",
    "price = 45\n",
    "xt = f\"the price is {price:.3f} dollars\"\n",
    "print(xt)"
   ]
  },
  {
   "cell_type": "code",
   "execution_count": 51,
   "metadata": {},
   "outputs": [
    {
     "name": "stdout",
     "output_type": "stream",
     "text": [
      " answer is 23\n"
     ]
    }
   ],
   "source": [
    " a = f\" answer is {23 *1}\"\n",
    "print(a)"
   ]
  },
  {
   "cell_type": "code",
   "execution_count": 62,
   "metadata": {},
   "outputs": [
    {
     "name": "stdout",
     "output_type": "stream",
     "text": [
      "The price is 65.25 dollars\n",
      "It is very CHEAP\n",
      "I love APPLES\n",
      "the plane is flying at a 9240.0 meter altitude\n"
     ]
    }
   ],
   "source": [
    "price = 45\n",
    "tax = 0.45\n",
    "txt1 = f\"It is very {'EXPENSIVE' if price > 100 else 'CHEAP'}\"\n",
    "txt = f\"The price is {price + (price * tax)} dollars\"\n",
    "print(txt)\n",
    "print(txt1)\n",
    "fruit = \"apples\"\n",
    "txt5 = f\"I love {fruit.upper()}\"\n",
    "print(txt5)\n",
    "def myconverter(x):\n",
    "    return x * 0.308\n",
    "txt4 = f\"the plane is flying at a {myconverter(30000)} meter altitude\"\n",
    "print(txt4)"
   ]
  },
  {
   "cell_type": "code",
   "execution_count": 65,
   "metadata": {},
   "outputs": [
    {
     "name": "stdout",
     "output_type": "stream",
     "text": [
      "The price is 59,000 dollars\n"
     ]
    }
   ],
   "source": [
    "price = 59000\n",
    "txt = f\"The price is {price:,} dollars\"\n",
    "print(txt)"
   ]
  },
  {
   "cell_type": "code",
   "execution_count": 67,
   "metadata": {},
   "outputs": [
    {
     "name": "stdout",
     "output_type": "stream",
     "text": [
      "The price is 67 dollars\n"
     ]
    }
   ],
   "source": [
    "price = 67\n",
    "txt = \"The price is {} dollars\"\n",
    "print(txt.format(price))"
   ]
  },
  {
   "cell_type": "code",
   "execution_count": 68,
   "metadata": {},
   "outputs": [
    {
     "name": "stdout",
     "output_type": "stream",
     "text": [
      " I want 56 pieces of item_no 789 for 45.00 dollars\n"
     ]
    }
   ],
   "source": [
    "quantity = 56\n",
    "cost = 45\n",
    "item_no = 789\n",
    "myorder = \" I want {} pieces of item_no {} for {:.2f} dollars\"\n",
    "print(myorder.format(quantity,item_no,cost))"
   ]
  },
  {
   "cell_type": "code",
   "execution_count": 71,
   "metadata": {},
   "outputs": [
    {
     "name": "stdout",
     "output_type": "stream",
     "text": [
      " I want 56 pieces of item_no 789 for 45.00 dollars\n"
     ]
    }
   ],
   "source": [
    "quantity = 56\n",
    "cost = 45\n",
    "item_no = 789\n",
    "myorder = \" I want {0} pieces of item_no {2} for {1:.2f} dollars\"\n",
    "print(myorder.format(quantity,cost,item_no))"
   ]
  },
  {
   "cell_type": "code",
   "execution_count": 74,
   "metadata": {},
   "outputs": [
    {
     "name": "stdout",
     "output_type": "stream",
     "text": [
      "I have a Ford , it  is a Mustang\n"
     ]
    }
   ],
   "source": [
    "myorder = \"I have a {carname} , it  is a {model}\"\n",
    "print(myorder.format(carname = \"Ford\" , model = \"Mustang\"))"
   ]
  },
  {
   "cell_type": "code",
   "execution_count": 77,
   "metadata": {},
   "outputs": [
    {
     "ename": "PermissionError",
     "evalue": "[Errno 13] Permission denied: '3D objects'",
     "output_type": "error",
     "traceback": [
      "\u001b[1;31m---------------------------------------------------------------------------\u001b[0m",
      "\u001b[1;31mPermissionError\u001b[0m                           Traceback (most recent call last)",
      "\u001b[1;32m<ipython-input-77-db7313113722>\u001b[0m in \u001b[0;36m<module>\u001b[1;34m\u001b[0m\n\u001b[1;32m----> 1\u001b[1;33m \u001b[0mf\u001b[0m \u001b[1;33m=\u001b[0m \u001b[0mopen\u001b[0m\u001b[1;33m(\u001b[0m\u001b[1;34m\"3D objects\"\u001b[0m\u001b[1;33m,\u001b[0m\u001b[1;34m\"rt\"\u001b[0m\u001b[1;33m)\u001b[0m\u001b[1;33m\u001b[0m\u001b[1;33m\u001b[0m\u001b[0m\n\u001b[0m",
      "\u001b[1;31mPermissionError\u001b[0m: [Errno 13] Permission denied: '3D objects'"
     ]
    }
   ],
   "source": [
    "f = open(\"3D objects\",\"rt\")"
   ]
  },
  {
   "cell_type": "code",
   "execution_count": 79,
   "metadata": {},
   "outputs": [
    {
     "ename": "NameError",
     "evalue": "name 'windows' is not defined",
     "output_type": "error",
     "traceback": [
      "\u001b[1;31m---------------------------------------------------------------------------\u001b[0m",
      "\u001b[1;31mNameError\u001b[0m                                 Traceback (most recent call last)",
      "\u001b[1;32m<ipython-input-79-6dce63a0892c>\u001b[0m in \u001b[0;36m<module>\u001b[1;34m\u001b[0m\n\u001b[1;32m----> 1\u001b[1;33m \u001b[0mwindows\u001b[0m\u001b[1;33m.\u001b[0m\u001b[0mgetcwd\u001b[0m\u001b[1;33m(\u001b[0m\u001b[1;33m)\u001b[0m\u001b[1;33m\u001b[0m\u001b[1;33m\u001b[0m\u001b[0m\n\u001b[0m",
      "\u001b[1;31mNameError\u001b[0m: name 'windows' is not defined"
     ]
    }
   ],
   "source": [
    "windows.getcwd()"
   ]
  },
  {
   "cell_type": "code",
   "execution_count": 80,
   "metadata": {},
   "outputs": [],
   "source": [
    "import os"
   ]
  },
  {
   "cell_type": "code",
   "execution_count": 83,
   "metadata": {},
   "outputs": [
    {
     "data": {
      "text/plain": [
       "'C:\\\\Users\\\\tiwar'"
      ]
     },
     "execution_count": 83,
     "metadata": {},
     "output_type": "execute_result"
    }
   ],
   "source": [
    "import os\n",
    "os.path.abspath(\"\")\n"
   ]
  },
  {
   "cell_type": "code",
   "execution_count": 84,
   "metadata": {},
   "outputs": [
    {
     "name": "stdout",
     "output_type": "stream",
     "text": [
      "C:\\Users\\tiwar\\AppData\\Roaming\\jupyter\\runtime\n"
     ]
    }
   ],
   "source": [
    "from ipykernel import get_connection_file\n",
    "import os\n",
    "\n",
    "connection_file = get_connection_file()\n",
    "notebook_path = os.path.dirname(connection_file)\n",
    "print(notebook_path)"
   ]
  },
  {
   "cell_type": "code",
   "execution_count": null,
   "metadata": {},
   "outputs": [],
   "source": []
  }
 ],
 "metadata": {
  "kernelspec": {
   "display_name": "Python 3",
   "language": "python",
   "name": "python3"
  },
  "language_info": {
   "codemirror_mode": {
    "name": "ipython",
    "version": 3
   },
   "file_extension": ".py",
   "mimetype": "text/x-python",
   "name": "python",
   "nbconvert_exporter": "python",
   "pygments_lexer": "ipython3",
   "version": "3.8.3"
  }
 },
 "nbformat": 4,
 "nbformat_minor": 4
}
