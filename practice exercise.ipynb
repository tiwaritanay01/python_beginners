{
 "cells": [
  {
   "cell_type": "code",
   "execution_count": 4,
   "metadata": {},
   "outputs": [
    {
     "name": "stdout",
     "output_type": "stream",
     "text": [
      "3.142857142857143\n",
      "put the radius of circle :5\n",
      "area of circle is : \n",
      "49.38775510204081\n"
     ]
    }
   ],
   "source": [
    "x = 22/7\n",
    "print(float(x))\n",
    "y = float(input(\"put the radius of circle :\"))\n",
    "area =  x*y*x\n",
    "print(\"area of circle is : \" )\n",
    "print(area)"
   ]
  },
  {
   "cell_type": "code",
   "execution_count": null,
   "metadata": {},
   "outputs": [],
   "source": [
    "list1 = (1,3,5,7,9,11,13,15,17,19,21,23,25,27,29,31,33,35,37,39,41,43,45,47,49,51,\n",
    "       53,55,57,59,61,63,65,67,69,71,73,75,77,79,81,83,85,87,89,91,93,95,97,99)\n",
    "list2 = (2,4,6,8,10,12,14,16,18,20,22,24,26,28,30,32,34,36,38,40,42,44,46,48,50,52,54,56,58,60,62,\n",
    "         64,66,68,70,72,74,76,78,80,82,84,86,88,90,92,94,96,98,100)\n",
    "n = int(input(\"ENTER THE INTEGER\"))\n",
    "print(n)\n",
    "if n in list1:\n",
    "    print(\"Weird\")\n",
    "elif 2 <= n+1 <= 5 and n in list2:\n",
    "    print(\"not weird\")\n",
    "elif 6 <= n+1 <= 20 and n in list2:\n",
    "    print(\"Weird\")\n",
    "else :\n",
    "    print(\"not weird\")"
   ]
  },
  {
   "cell_type": "code",
   "execution_count": 9,
   "metadata": {},
   "outputs": [
    {
     "name": "stdout",
     "output_type": "stream",
     "text": [
      "8\n",
      "-2\n",
      "15\n"
     ]
    }
   ],
   "source": [
    "#The provided code stub reads two integers a and b from STDIN \n",
    "#The first line contains the sum of the two numbers.\n",
    "#The second line contains the difference of the two numbers (first - second).\n",
    "#The third line contains the product of the two numbers.\n",
    "a = input()\n",
    "b = input()\n",
    "\n",
    "a = int(a)\n",
    "b = int(b)\n",
    "\n",
    "sum = a + b\n",
    "difference = a - b\n",
    "product = a*b\n",
    "\n",
    "print(sum)\n",
    "print(difference)\n",
    "print(product)\n"
   ]
  },
  {
   "cell_type": "code",
   "execution_count": 19,
   "metadata": {},
   "outputs": [
    {
     "name": "stdout",
     "output_type": "stream",
     "text": [
      "3\n",
      "5\n",
      "0\n",
      "0.6\n"
     ]
    }
   ],
   "source": [
    "#divison question of flOAT and INT\n",
    "a = input()\n",
    "b = input()\n",
    "\n",
    "A = int(a)\n",
    "B = int(b)\n",
    "\n",
    "print(int(A/B))\n",
    "\n",
    "Aa = float(a)\n",
    "Bb = float(b)\n",
    "\n",
    "print(float(Aa/Bb))"
   ]
  },
  {
   "cell_type": "code",
   "execution_count": 22,
   "metadata": {},
   "outputs": [
    {
     "name": "stdout",
     "output_type": "stream",
     "text": [
      "5\n",
      "0\n",
      "1\n",
      "4\n",
      "9\n",
      "16\n"
     ]
    }
   ],
   "source": [
    "n = int(input())\n",
    "\n",
    "for i in range(n): #rAnge(n) is used to generate numbers 0 to n - 1\n",
    "    print(i * i)"
   ]
  },
  {
   "cell_type": "code",
   "execution_count": 9,
   "metadata": {},
   "outputs": [
    {
     "name": "stdout",
     "output_type": "stream",
     "text": [
      "5\n",
      "12345"
     ]
    }
   ],
   "source": [
    "n = int(input())\n",
    "\n",
    "# Using a loop and print statement\n",
    "for i in range(1, n + 1):\n",
    "    print(i, end='') #end='' part of the print function makes sure that the numbers are printed next to each other without spaces or new lines in between."
   ]
  },
  {
   "cell_type": "code",
   "execution_count": 5,
   "metadata": {},
   "outputs": [
    {
     "name": "stdout",
     "output_type": "stream",
     "text": [
      "2\n",
      "1\n",
      "5\n",
      "9\n",
      "[[0, 0, 0], [0, 0, 1], [0, 0, 2], [0, 0, 3], [0, 0, 4], [0, 0, 5], [0, 1, 0], [0, 1, 1], [0, 1, 2], [0, 1, 3], [0, 1, 4], [0, 1, 5], [1, 0, 0], [1, 0, 1], [1, 0, 2], [1, 0, 3], [1, 0, 4], [1, 0, 5], [1, 1, 0], [1, 1, 1], [1, 1, 2], [1, 1, 3], [1, 1, 4], [1, 1, 5], [2, 0, 0], [2, 0, 1], [2, 0, 2], [2, 0, 3], [2, 0, 4], [2, 0, 5], [2, 1, 0], [2, 1, 1], [2, 1, 2], [2, 1, 3], [2, 1, 4], [2, 1, 5]]\n"
     ]
    }
   ],
   "source": [
    "# list comprehensions\n",
    "# given x = i , y = j , z = k , int(n) = \n",
    "# condition to be true is i + j + k != n\n",
    "\n",
    "x = int(input())\n",
    "y = int(input())\n",
    "z = int(input())\n",
    "\n",
    "n = int(input())\n",
    "\n",
    "ans = [[i , j , k]for i in range(0, x + 1) for j in range(y + 1) for k in range(z + 1)\n",
    "       if i + j + k != n ]\n",
    "\n",
    "print(ans)\n",
    "\n",
    "# so this code prints posible combination of array  for the same thing given in question"
   ]
  },
  {
   "cell_type": "code",
   "execution_count": 4,
   "metadata": {},
   "outputs": [
    {
     "name": "stdout",
     "output_type": "stream",
     "text": [
      "1\n",
      "1\n",
      "0\n",
      "3\n",
      "[[0, 0, 0], [0, 1, 0], [1, 0, 0], [1, 1, 0]]\n"
     ]
    }
   ],
   "source": [
    "if __name__ ==  '__main__':\n",
    "    x = int(input())\n",
    "    y = int(input())\n",
    "    z = int(input())\n",
    "    n = int(input())\n",
    "    \n",
    "    out = [[i,j,k]for i in range(0,x+1) for j in range(y + 1) for k in range(z +1)\n",
    "    if i+j+k != n] \n",
    "print(out)"
   ]
  },
  {
   "cell_type": "code",
   "execution_count": 2,
   "metadata": {},
   "outputs": [
    {
     "name": "stdout",
     "output_type": "stream",
     "text": [
      "20\n",
      "Weird\n"
     ]
    }
   ],
   "source": [
    "import math\n",
    "import os\n",
    "import random\n",
    "import re\n",
    "import sys\n",
    "\n",
    "if __name__ == '__main__':\n",
    "    n = int(input().strip())\n",
    "    if n % 2 != 0 :\n",
    "        print(\"Weird\")\n",
    "    elif n  in range(2,5) :\n",
    "        print(\"Not Weird\")  # second condition cleared\n",
    "    elif n in range(6,20):\n",
    "        print(\"Weird\")   # third condition cleared\n",
    "    elif n == 20 :\n",
    "        print(\"Weird\")\n",
    "    elif n in range(20 , 101):\n",
    "        print(\"Not Weird\")\n",
    "    else :\n",
    "        print(\"Not Weird\")\n",
    "# first condition is cleared\n",
    "\n",
    "        "
   ]
  },
  {
   "cell_type": "code",
   "execution_count": 5,
   "metadata": {},
   "outputs": [
    {
     "name": "stdout",
     "output_type": "stream",
     "text": [
      "[1]\n",
      "[1, [2]]\n",
      "[1, [3], [2]]\n"
     ]
    }
   ],
   "source": [
    "list1 = [6,5,10]\n",
    "list1.pop[list1,]"
   ]
  },
  {
   "cell_type": "code",
   "execution_count": 4,
   "metadata": {},
   "outputs": [
    {
     "ename": "SyntaxError",
     "evalue": "'return' outside function (<ipython-input-4-4415cf671df7>, line 6)",
     "output_type": "error",
     "traceback": [
      "\u001b[1;36m  File \u001b[1;32m\"<ipython-input-4-4415cf671df7>\"\u001b[1;36m, line \u001b[1;32m6\u001b[0m\n\u001b[1;33m    return False\u001b[0m\n\u001b[1;37m    ^\u001b[0m\n\u001b[1;31mSyntaxError\u001b[0m\u001b[1;31m:\u001b[0m 'return' outside function\n"
     ]
    }
   ],
   "source": [
    "def is_leap(year):\n",
    "    leap = False\n",
    "    \n",
    "    # Write your logic here\n",
    "if year % 4 != 0:\n",
    "                 return False\n",
    "    \n",
    "if year % 100 != 0:\n",
    "    \n",
    "    return True\n",
    "if year % 400 == 0:\n",
    "    \n",
    "    return True\n",
    "else:\n",
    "    \n",
    "     return False\n",
    "     return leap\n",
    "\n",
    "year = int(input())\n",
    "print(is_leap(year))"
   ]
  },
  {
   "cell_type": "code",
   "execution_count": 5,
   "metadata": {},
   "outputs": [
    {
     "name": "stdout",
     "output_type": "stream",
     "text": [
      "2000\n",
      "True\n"
     ]
    }
   ],
   "source": [
    "def is_leap(year):\n",
    "    leap = False\n",
    "    \n",
    "    # Write your logic here\n",
    "    if year % 4 != 0:\n",
    "        return False\n",
    "    elif year % 100 != 0:\n",
    "        return True\n",
    "    elif year % 400 == 0:\n",
    "        return True\n",
    "    else:\n",
    "        return False\n",
    "\n",
    "year = int(input())\n",
    "print(is_leap(year))\n"
   ]
  },
  {
   "cell_type": "code",
   "execution_count": 12,
   "metadata": {},
   "outputs": [
    {
     "name": "stdout",
     "output_type": "stream",
     "text": [
      "Hello ross taylor you just delved into python\n"
     ]
    }
   ],
   "source": [
    "# Complete the 'print_full_name' function below.\n",
    "#\n",
    "# The function is expected to return a STRING.\n",
    "# The function accepts following parameters:\n",
    "#  1. STRING first\n",
    "#  2. STRING last\n",
    "#\n",
    "\n",
    "def print_full_name(first, last):\n",
    "    \n",
    "    # Write your code here\n",
    "\n",
    "    if __name__ == '__main__':\n",
    "        return f\"Hello {first} {last} you just delved into python\"\n",
    "        \n",
    "        first_name = input()\n",
    "        last_name  = input()\n",
    "print(print_full_name(first_name, last_name))"
   ]
  },
  {
   "cell_type": "code",
   "execution_count": 1,
   "metadata": {},
   "outputs": [
    {
     "name": "stdout",
     "output_type": "stream",
     "text": [
      "No duplicates\n"
     ]
    }
   ],
   "source": [
    "#duplicate of an array\n",
    "\n",
    "#create an array\n",
    "array1 = [\"Buggati\",\"Mercedes\",\"Ford\",\"RR\",\"BMW\",\"toyota\"]\n",
    "array2 = [\"lamborghini\",\"Mercedes\",\"Ford\",\"omni\",\"BMW\",\"toyota\"]\n",
    "\n",
    "#create a var to traverse through the arrays\n",
    "for x in ([array1]):\n",
    "    for y in ([array2]):\n",
    "        if x == y:\n",
    "            print(\"there are duplicates\",x)\n",
    "        else:\n",
    "            print(\"No duplicates\")\n"
   ]
  },
  {
   "cell_type": "code",
   "execution_count": 3,
   "metadata": {},
   "outputs": [
    {
     "name": "stdout",
     "output_type": "stream",
     "text": [
      "duplicates elements : {'Mercedes', 'Ford', 'BMW', 'toyota'}\n"
     ]
    }
   ],
   "source": [
    "array1 = [\"Buggati\",\"Mercedes\",\"Ford\",\"RR\",\"BMW\",\"toyota\"]\n",
    "array2 = [\"lamborghini\",\"Mercedes\",\"Ford\",\"omni\",\"BMW\",\"toyota\"]\n",
    "\n",
    "duplicates = set(array1) & set(array2)\n",
    "\n",
    "if duplicates:\n",
    "    print(\"duplicates elements :\",duplicates)\n",
    "else:\n",
    "    print(\"No duplicates\")"
   ]
  },
  {
   "cell_type": "code",
   "execution_count": null,
   "metadata": {},
   "outputs": [],
   "source": []
  }
 ],
 "metadata": {
  "kernelspec": {
   "display_name": "Python 3 (ipykernel)",
   "language": "python",
   "name": "python3"
  },
  "language_info": {
   "codemirror_mode": {
    "name": "ipython",
    "version": 3
   },
   "file_extension": ".py",
   "mimetype": "text/x-python",
   "name": "python",
   "nbconvert_exporter": "python",
   "pygments_lexer": "ipython3",
   "version": "3.8.3"
  }
 },
 "nbformat": 4,
 "nbformat_minor": 4
}
