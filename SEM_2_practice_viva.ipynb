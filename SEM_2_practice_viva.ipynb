{
 "cells": [
  {
   "cell_type": "code",
   "execution_count": 2,
   "id": "3b5a163b",
   "metadata": {},
   "outputs": [
    {
     "name": "stdout",
     "output_type": "stream",
     "text": [
      "6\n",
      "5\n"
     ]
    }
   ],
   "source": [
    "a = 5\n",
    "b = a\n",
    "a = 6\n",
    "print(a)\n",
    "print(b)"
   ]
  },
  {
   "cell_type": "code",
   "execution_count": 6,
   "id": "97584b72",
   "metadata": {},
   "outputs": [
    {
     "name": "stdout",
     "output_type": "stream",
     "text": [
      "5  is <class 'int'>\n",
      "6.5432  is  <class 'float'>\n",
      "(1+2j)  is  <class 'complex'>\n"
     ]
    }
   ],
   "source": [
    "#1\n",
    "a = 5\n",
    "print(5,\" is\",type(a))\n",
    "\n",
    "a = 6.5432\n",
    "print(a,\" is \", type(a))\n",
    "\n",
    "a = 1 + 2j\n",
    "print(a,\" is \", type(a))"
   ]
  },
  {
   "cell_type": "code",
   "execution_count": 7,
   "id": "75dc0deb",
   "metadata": {},
   "outputs": [
    {
     "name": "stdout",
     "output_type": "stream",
     "text": [
      "addition is 25\n",
      "Subtraction is 5\n",
      "Multiplication is 150\n",
      "Division is 1.5\n",
      "Value is 1\n",
      "Value is 576650390625\n"
     ]
    }
   ],
   "source": [
    "#2\n",
    "x = 15\n",
    "y = 10\n",
    "\n",
    "#addition\n",
    "print(\"addition is\",x+y)\n",
    "\n",
    "#subtraction\n",
    "print(\"Subtraction is\",x - y)\n",
    "\n",
    "#multiplication\n",
    "print(\"Multiplication is\",x*y)\n",
    "\n",
    "#division\n",
    "print(\"Division is\",x/y)\n",
    "\n",
    "#floor division\n",
    "print(\"Value is\",x//y)\n",
    "\n",
    "#exponential\n",
    "print(\"Value is\",x**y)\n"
   ]
  },
  {
   "cell_type": "code",
   "execution_count": 17,
   "id": "c5b6fa08",
   "metadata": {},
   "outputs": [
    {
     "name": "stdout",
     "output_type": "stream",
     "text": [
      "Hello world\n",
      "HELLO WORLD\n",
      "hello world\n",
      "Hello world , python is awesome\n",
      "llo PYTHON IS AWESOME\n"
     ]
    }
   ],
   "source": [
    "#3\n",
    "string1 = \"Hello world\"\n",
    "string2 = \"python is awesome\"\n",
    "print(string1)\n",
    "print(string1.upper())\n",
    "print(string1.lower())\n",
    "print(string1 +\" , \" + string2)\n",
    "print(string1[2:6] + string2.upper())"
   ]
  },
  {
   "cell_type": "code",
   "execution_count": 20,
   "id": "fda32bf1",
   "metadata": {},
   "outputs": [
    {
     "name": "stdout",
     "output_type": "stream",
     "text": [
      "d1 = 28/04/25\n",
      "d2 = April/28/25\n",
      "d3 = Mon Apr 28 00:00:00 IST 2025\n"
     ]
    }
   ],
   "source": [
    "#4\n",
    "from datetime import date\n",
    "from time import strftime\n",
    "\n",
    "today = date.today()\n",
    "\n",
    "d1 = today.strftime(\"%d/%m/%y\")\n",
    "print(\"d1 =\",d1)\n",
    "\n",
    "d2 = today.strftime(\"%B/%d/%y\")\n",
    "print(\"d2 =\",d2)\n",
    "\n",
    "d3 = today.strftime(\"%a %b %d %H:%M:%S IST %Y\")\n",
    "print(\"d3 =\",d3)"
   ]
  },
  {
   "cell_type": "code",
   "execution_count": 31,
   "id": "1aa30fc8",
   "metadata": {},
   "outputs": [
    {
     "name": "stdout",
     "output_type": "stream",
     "text": [
      "['p', 'r', 'o', 'b', 'l', 'e', 'm']\n",
      "o\n",
      "['p', 'r', 'b', 'l', 'e', 'm']\n",
      "['p', 'r', 'b', 'l', 'e', 'm', 'h', 'e', 'l', 'l', 'o']\n",
      "['r', 'b', 'l', 'e', 'm']\n"
     ]
    }
   ],
   "source": [
    "#5\n",
    "list1 = ['p','r','o','b','l','e','m']\n",
    "print(list1)\n",
    "\n",
    "list2 = ['h','e','l','l','o']\n",
    "\n",
    "print(list1.pop(2))\n",
    "print(list1)\n",
    "print(list1 + list2)\n",
    "\n",
    "list1.remove('p')\n",
    "print(list1)\n",
    "\n",
    "list1.clear()"
   ]
  },
  {
   "cell_type": "code",
   "execution_count": 33,
   "id": "672307db",
   "metadata": {},
   "outputs": [
    {
     "name": "stdout",
     "output_type": "stream",
     "text": [
      "(1, 2, 3)\n",
      "('hello', 3.4, 1)\n",
      "(1, 2, 3, 'hello', 3.4, 1)\n"
     ]
    }
   ],
   "source": [
    "#6\n",
    "my_tuple = (1,2,3)\n",
    "print(my_tuple)\n",
    "\n",
    "tuple2 = (\"hello\",3.4,1)\n",
    "print(tuple2)\n",
    "\n",
    "print(my_tuple + tuple2)"
   ]
  },
  {
   "cell_type": "code",
   "execution_count": 37,
   "id": "e8cf4125",
   "metadata": {},
   "outputs": [
    {
     "name": "stdout",
     "output_type": "stream",
     "text": [
      "Input comma-separated sequence of words: hen ,  cock\n",
      "cock,hen\n"
     ]
    }
   ],
   "source": [
    "#17\n",
    "def process_words():\n",
    "    items = input(\"Input comma-separated sequence of words: \")\n",
    "    \n",
    "    words = [word.strip() for word in items.split(\",\")]\n",
    "    \n",
    "    unique_sorted_words = sorted(set(words))\n",
    "    \n",
    "    print(\",\".join(unique_sorted_words))\n",
    "process_words()\n"
   ]
  },
  {
   "cell_type": "code",
   "execution_count": 43,
   "id": "e17c6225",
   "metadata": {},
   "outputs": [
    {
     "name": "stdout",
     "output_type": "stream",
     "text": [
      "Enter value of num1 :4\n",
      "enter the value of num2 :5\n",
      "Enter the value of num3 :6\n",
      "6 is greater than 4 , 5\n",
      "6 is the largest among    4 , 5 , 6\n"
     ]
    }
   ],
   "source": [
    "#8\n",
    "num1 = int(input(\"Enter value of num1 :\"))\n",
    "num2 = int(input(\"enter the value of num2 :\"))\n",
    "num3 = int(input(\"Enter the value of num3 :\"))\n",
    "\n",
    "if (num1 > num2) and (num1 > num3):\n",
    "    print(num1,\"is greater than\",num2,\",\",num3)\n",
    "    print(num1 ,\"is the largest among \",\" \",num1,\",\",num2,\",\",num3)\n",
    "elif (num2 > num1) and (num2 > num3):\n",
    "    print(num2 , \"is greater than\",num3,\",\",num1)\n",
    "    print(num2 ,\"is the largest among \",\" \",num1,\",\",num2,\",\",num3)\n",
    "else:\n",
    "    print(num3,\"is greater than\",num1,\",\",num2)\n",
    "    print(num3, \"is the largest among \",\" \",num1,\",\",num2,\",\",num3)"
   ]
  },
  {
   "cell_type": "code",
   "execution_count": 44,
   "id": "12c35fc1",
   "metadata": {},
   "outputs": [
    {
     "name": "stdout",
     "output_type": "stream",
     "text": [
      "Enter the value of temperature of temperature recorded in degree celsius :43\n",
      "43.00 degree celsius is 109.40 degree farenheit\n"
     ]
    }
   ],
   "source": [
    "#9\n",
    "celsius = float(input(\"Enter the value of temperature of temperature recorded in degree celsius :\"))\n",
    "farenheit = (celsius *1.8) + 32\n",
    "\n",
    "print(f\"{celsius:.2f} degree celsius is {farenheit:.2f} degree farenheit\")"
   ]
  },
  {
   "cell_type": "code",
   "execution_count": 49,
   "id": "59428194",
   "metadata": {},
   "outputs": [
    {
     "name": "stdout",
     "output_type": "stream",
     "text": [
      "Enter the peak value3\n",
      "\n",
      "* \n",
      "* * \n",
      "* * * \n",
      "* * \n",
      "* \n"
     ]
    }
   ],
   "source": [
    "#10\n",
    "n = int(input(\"Enter the peak value\"))\n",
    "\n",
    "for i in range(n):\n",
    "    for j in range(i):\n",
    "        print('*', end=\" \")\n",
    "    print('')\n",
    "for i in range(n, 0, -1):  \n",
    "    for j in range(i):  \n",
    "        print('*', end=\" \")  \n",
    "    print('')\n"
   ]
  },
  {
   "cell_type": "code",
   "execution_count": 51,
   "id": "16848ad3",
   "metadata": {},
   "outputs": [
    {
     "name": "stdout",
     "output_type": "stream",
     "text": [
      "Enter upper limit: 20\n",
      "2\n",
      "3\n",
      "5\n",
      "7\n",
      "11\n",
      "13\n",
      "17\n",
      "19\n"
     ]
    }
   ],
   "source": [
    "#11\n",
    "\n",
    "r = int(input(\"Enter upper limit: \"))  # Take user input for the upper limit\n",
    "\n",
    "for a in range(2, r + 1):  # Loop through numbers from 2 to r\n",
    "    k = 0  # Initialize a counter for counting divisors\n",
    "\n",
    "    for i in range(2, int( a**0.5) + 1):  # Check divisibility from 2 to half of 'a'\n",
    "        #a**0.5        \n",
    "        if a % i == 0:  # If 'a' is divisible by 'i'\n",
    "            k = k + 1  # Increment divisor count\n",
    "\n",
    "    if k == 0:  # If no divisors were found, 'a' is prime\n",
    "        print(a)  # Print the prime number\n"
   ]
  },
  {
   "cell_type": "code",
   "execution_count": 52,
   "id": "5238b9bc",
   "metadata": {},
   "outputs": [
    {
     "name": "stdout",
     "output_type": "stream",
     "text": [
      "Enter a number: 5\n",
      "The factorial of 5 is 120\n"
     ]
    }
   ],
   "source": [
    "#12\n",
    "num = int(input(\"Enter a number: \"))\n",
    "factorial = 1\n",
    "if num < 0:\n",
    "    print(\"Sorry, factorial does not exist for negative numbers\")\n",
    "elif num == 0:\n",
    "    print(\"The factorial of 0 is 1\")\n",
    "else:\n",
    "    for i in range(1, num + 1):\n",
    "        factorial = factorial * i\n",
    "    print(\"The factorial of\", num, \"is\", factorial)\n"
   ]
  },
  {
   "cell_type": "code",
   "execution_count": 53,
   "id": "0c56934f",
   "metadata": {},
   "outputs": [
    {
     "name": "stdout",
     "output_type": "stream",
     "text": [
      "Enter the length of the first side: 5\n",
      "Enter the length of the second side: 5\n",
      "Enter the length of the third side: 6\n",
      "The given sides do not form a right triangle.\n"
     ]
    }
   ],
   "source": [
    "#13\n",
    "def is_right_triangle(a, b, c):\n",
    "    sides = sorted([a, b, c])\n",
    "    return sides[0]**2 + sides[1]**2 == sides[2]**2\n",
    "\n",
    "side1 = float(input(\"Enter the length of the first side: \"))\n",
    "side2 = float(input(\"Enter the length of the second side: \"))\n",
    "side3 = float(input(\"Enter the length of the third side: \"))\n",
    "\n",
    "if is_right_triangle(side1, side2, side3):\n",
    "    print(\"The given sides form a right triangle.\")\n",
    "else:\n",
    "    print(\"The given sides do not form a right triangle.\")\n"
   ]
  },
  {
   "cell_type": "code",
   "execution_count": 1,
   "id": "5bcd6806",
   "metadata": {},
   "outputs": [
    {
     "name": "stdout",
     "output_type": "stream",
     "text": [
      "HOW many terms ?10\n",
      "Fibonacci series is upto : 10\n",
      "0 1 1 2 3 5 8 13 21 34 "
     ]
    }
   ],
   "source": [
    "#14\n",
    "nterms = int(input(\"HOW many terms ?\"))\n",
    "\n",
    "n1 = 0\n",
    "n2 =1\n",
    "count = 0\n",
    "\n",
    "if nterms<=0:\n",
    "    print(\"enter valid input\")\n",
    "elif nterms == 0:\n",
    "    print(\"series is :\",n2)\n",
    "else :\n",
    "    print(\"Fibonacci series is upto :\" ,nterms)\n",
    "    while count < nterms :\n",
    "        print(n1 ,end = \" \")\n",
    "        nth = n1 + n2\n",
    "        n1 = n2\n",
    "        n2 = nth\n",
    "        count = count + 1"
   ]
  },
  {
   "cell_type": "code",
   "execution_count": 2,
   "id": "5e69c904",
   "metadata": {},
   "outputs": [
    {
     "name": "stdout",
     "output_type": "stream",
     "text": [
      "Numbers divisible by 13 are [65, 39, 221]\n"
     ]
    }
   ],
   "source": [
    "#15\n",
    "my_list = [12, 65, 54, 39, 102, 339, 221,]\n",
    "\n",
    "result = list(filter(lambda x: (x % 13 == 0), my_list))\n",
    "\n",
    "print(\"Numbers divisible by 13 are\",result)"
   ]
  },
  {
   "cell_type": "code",
   "execution_count": 9,
   "id": "cc3af2ff",
   "metadata": {},
   "outputs": [],
   "source": [
    "#18\n",
    "class py_solution:\n",
    "    def int_to_Roman(self,num):\n",
    "        val = [ \n",
    "            1000, 900, 500, 400, \n",
    "            100, 90, 50, 40, \n",
    "            10, 9, 5, 4, \n",
    "            1 \n",
    "        ] \n",
    "        syb = [ \n",
    "            \"M\", \"CM\", \"D\", \"CD\", \n",
    "            \"C\", \"XC\", \"L\", \"XL\", \n",
    "            \"X\", \"IX\", \"V\", \"IV\", \n",
    "            \"I\" \n",
    "        ] \n",
    "        roman_num = \"\"\n",
    "        i = 0\n",
    "        while num > 0:\n",
    "             for _ in range(num // val[i]):  \n",
    "                roman_num += syb[i]  \n",
    "                num -= val[i]  \n",
    "        i += 1  \n",
    "        return roman_num"
   ]
  },
  {
   "cell_type": "code",
   "execution_count": 11,
   "id": "ca90c380",
   "metadata": {},
   "outputs": [],
   "source": [
    "#19\n",
    "class py_solution:\n",
    "    def pow(self, x, n):\n",
    "        if x == 0 or x == 1 or n == 1:  \n",
    "            return x  \n",
    "        if x == -1:  \n",
    "            return 1 if n % 2 == 0 else -1  \n",
    "        if n == 0:  \n",
    "            return 1  \n",
    "        if n < 0:  \n",
    "            return 1 / self.pow(x, -n)  \n",
    "\n",
    "        val = self.pow(x, n // 2)  \n",
    "        if n % 2 == 0:  \n",
    "            return val * val  \n",
    "        return val * val * x  \n",
    "\n"
   ]
  },
  {
   "cell_type": "code",
   "execution_count": 17,
   "id": "e784bad1",
   "metadata": {},
   "outputs": [
    {
     "name": "stdout",
     "output_type": "stream",
     "text": [
      "code practice quiz geeks\n"
     ]
    }
   ],
   "source": [
    "def reverseWords(input_string):  \n",
    "    inputWords = input_string.split(\" \")  \n",
    "    inputWords = inputWords[::-1]  \n",
    "    output = ' '.join(inputWords)  \n",
    "    return output  \n",
    "\n",
    "if __name__ == \"__main__\":  \n",
    "    input_string = 'geeks quiz practice code'  \n",
    "    print(reverseWords(input_string))  \n",
    "\n"
   ]
  },
  {
   "cell_type": "code",
   "execution_count": 18,
   "id": "b9988133",
   "metadata": {},
   "outputs": [
    {
     "name": "stdout",
     "output_type": "stream",
     "text": [
      "code practice quiz geeks\n"
     ]
    }
   ],
   "source": [
    "def reverseWords(input_string):\n",
    "    return ' '.join(input_string.split()[::-1])\n",
    "\n",
    "if __name__ == \"__main__\":\n",
    "    input_string = 'geeks quiz practice code'\n",
    "    print(reverseWords(input_string))\n"
   ]
  },
  {
   "cell_type": "code",
   "execution_count": null,
   "id": "4ad8bc15",
   "metadata": {},
   "outputs": [],
   "source": []
  }
 ],
 "metadata": {
  "kernelspec": {
   "display_name": "Python 3 (ipykernel)",
   "language": "python",
   "name": "python3"
  },
  "language_info": {
   "codemirror_mode": {
    "name": "ipython",
    "version": 3
   },
   "file_extension": ".py",
   "mimetype": "text/x-python",
   "name": "python",
   "nbconvert_exporter": "python",
   "pygments_lexer": "ipython3",
   "version": "3.8.3"
  }
 },
 "nbformat": 4,
 "nbformat_minor": 5
}
