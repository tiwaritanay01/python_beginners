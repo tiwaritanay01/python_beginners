{
 "cells": [
  {
   "cell_type": "code",
   "execution_count": 1,
   "id": "92258dad",
   "metadata": {},
   "outputs": [
    {
     "name": "stdout",
     "output_type": "stream",
     "text": [
      "5\n",
      "* \n",
      "* * \n",
      "* * * \n",
      "* * * * \n",
      "* * * * * \n",
      "* * * * \n",
      "* * * \n",
      "* * \n",
      "* \n"
     ]
    }
   ],
   "source": [
    "#design\n",
    "\n",
    "n = int(input())\n",
    "\n",
    "for i in range(n):\n",
    "    for j in range(i+1):\n",
    "        print(\"*\",end = \" \")\n",
    "    print()\n",
    "for i in range(n-1,0,-1):\n",
    "    for j in range(i):\n",
    "        print(\"*\",end = \" \")\n",
    "    print()"
   ]
  },
  {
   "cell_type": "code",
   "execution_count": 6,
   "id": "1c7f2b0b",
   "metadata": {},
   "outputs": [
    {
     "name": "stdout",
     "output_type": "stream",
     "text": [
      "d1 = 24/03/25\n",
      "d2 = Mon / Mar /24 00:00:00 IST 2025\n",
      "d3 = Mar-24-25\n"
     ]
    }
   ],
   "source": [
    "#date\n",
    "from datetime import date\n",
    "from time import strftime\n",
    "\n",
    "today = date.today()\n",
    "d1 = today.strftime(\"%d/%m/%y\")\n",
    "print(\"d1 =\",d1)\n",
    "\n",
    "d2 = today.strftime(\"%a / %b /%d %H:%M:%S IST %Y\")\n",
    "print(\"d2 =\",d2)\n",
    "\n",
    "d3 = today.strftime(\"%b-%d-%y\")\n",
    "print(\"d3 =\",d3)"
   ]
  },
  {
   "cell_type": "code",
   "execution_count": null,
   "id": "f5f0ce12",
   "metadata": {},
   "outputs": [],
   "source": []
  }
 ],
 "metadata": {
  "kernelspec": {
   "display_name": "Python 3 (ipykernel)",
   "language": "python",
   "name": "python3"
  },
  "language_info": {
   "codemirror_mode": {
    "name": "ipython",
    "version": 3
   },
   "file_extension": ".py",
   "mimetype": "text/x-python",
   "name": "python",
   "nbconvert_exporter": "python",
   "pygments_lexer": "ipython3",
   "version": "3.8.3"
  }
 },
 "nbformat": 4,
 "nbformat_minor": 5
}
