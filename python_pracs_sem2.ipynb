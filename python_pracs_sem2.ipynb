{
 "cells": [
  {
   "cell_type": "code",
   "execution_count": 1,
   "id": "b7781ec1",
   "metadata": {},
   "outputs": [
    {
     "name": "stdout",
     "output_type": "stream",
     "text": [
      "5 is of type <class 'int'>\n",
      "3.44 is of type <class 'float'>\n",
      "(1+2j) is of type <class 'complex'>\n"
     ]
    }
   ],
   "source": [
    "#Write a program to demonstrate different number data types in Python.\n",
    "a = 5 \n",
    "print(a,\"is of type\" ,type(a))\n",
    "\n",
    "b = 3.44\n",
    "print(b, \"is of type\" , type(b))\n",
    "\n",
    "c = 1+2j\n",
    "print(c,\"is of type\" ,type(c))\n"
   ]
  },
  {
   "cell_type": "code",
   "execution_count": 6,
   "id": "4687cbdf",
   "metadata": {},
   "outputs": [
    {
     "name": "stdout",
     "output_type": "stream",
     "text": [
      "square-root 5.477225575051661\n",
      "sum = 11\n",
      "difference = -1\n",
      "product = 30\n",
      "divison = 0.8333333333333334\n",
      "float division = 0\n",
      "exponential = 15625\n"
     ]
    }
   ],
   "source": [
    "#Write a program to perform different Arithmetic Operations on numbers in Python.\n",
    "import math\n",
    "\n",
    "a = 5\n",
    "b = 6\n",
    "print(\"square-root =\",math.sqrt(a*b))\n",
    "print(\"sum =\",a + b)\n",
    "print(\"difference =\",a-b)\n",
    "print(\"product =\",a*b)\n",
    "print(\"divison =\",a/b)\n",
    "print(\"float division =\",a//b)\n",
    "print(\"exponential =\",a**b)"
   ]
  },
  {
   "cell_type": "code",
   "execution_count": 14,
   "id": "8c182ec5",
   "metadata": {},
   "outputs": [
    {
     "name": "stdout",
     "output_type": "stream",
     "text": [
      "upper case : <built-in method upper of str object at 0x0000029029EB8F30>\n",
      "lower case : <built-in method lower of str object at 0x0000029029EB8F30>\n",
      "concatenate : helloworld\n",
      "Slicing : hello is sliced as per index values : el\n"
     ]
    }
   ],
   "source": [
    "#Write a program to create, concatenate and print a string and accessing sub-string from a given string\n",
    "x = \"hello\"\n",
    "y = \"world\"\n",
    "Upper = x.upper\n",
    "lower_case = x.lower\n",
    "print(\"upper case :\",Upper)\n",
    "print(\"lower case :\",lower_case)\n",
    "#print(\"concatenate :\",x.append(y))\n",
    "print(\"concatenate :\",x+y)\n",
    "print(\"Slicing : hello is sliced as per index values :\",x[1:3])"
   ]
  },
  {
   "cell_type": "code",
   "execution_count": 17,
   "id": "82a68d0a",
   "metadata": {},
   "outputs": [
    {
     "name": "stdout",
     "output_type": "stream",
     "text": [
      "d1 =  19/03/25\n",
      "d2 = 19/03/25\n",
      "d4 = Mar-19-2025\n",
      "Wed Mar 19 20:54:51 IST 2025\n"
     ]
    }
   ],
   "source": [
    "#Write a python script to print the current date in the following format “Sun May 29 31 02:26:23 IST 2017”\n",
    "from datetime import date\n",
    "from time import strftime\n",
    "\n",
    "today = date.today()\n",
    "d1 = today.strftime(\"%d/%m/%y\")\n",
    "print(\"d1 = \",d1)\n",
    "\n",
    "d2 = today.strftime(\"%d/%m/%y\")\n",
    "print(\"d2 =\",d2)\n",
    "\n",
    "d4 =today.strftime(\"%b-%d-%Y\")\n",
    "print(\"d4 =\", d4)\n",
    "\n",
    "formated_date=strftime(\"%a %b %d %H:%M:%S IST %Y\")\n",
    "print(formated_date)\n"
   ]
  },
  {
   "cell_type": "code",
   "execution_count": 23,
   "id": "2d7c4ff6",
   "metadata": {},
   "outputs": [
    {
     "name": "stdout",
     "output_type": "stream",
     "text": [
      "['grapes', 'cherry', 'banana', 'pear', 'mango']\n",
      "['grapes', 'banana', 'pear', 'mango']\n",
      "['grapes', 'banana', 'pear', 'mango', 'tomato']\n",
      "hello\n"
     ]
    }
   ],
   "source": [
    "#use list methods and attributes\n",
    "my_list = ['apple','grapes','cherry','banana','pear','mango']\n",
    "my_list.remove('apple')\n",
    "print(my_list)\n",
    "my_list.pop(1)\n",
    "print(my_list)\n",
    "my_list.append('tomato')\n",
    "print(my_list)\n",
    "\n",
    "if 'grapes' in my_list:\n",
    "    print(\"hello\")\n",
    "else:\n",
    "    print(\"bye\")"
   ]
  },
  {
   "cell_type": "code",
   "execution_count": 30,
   "id": "ea01781f",
   "metadata": {},
   "outputs": [
    {
     "name": "stdout",
     "output_type": "stream",
     "text": [
      "this is a nested tuple : ([1, 2, 3], ('tomato', 'grapes', 'cherry'), [3.4, 4.1, 6.2])\n",
      "this is a simple tuple : (1, 2, 3)\n"
     ]
    }
   ],
   "source": [
    "#Write a program to demonstrate working with tuples in python. \n",
    "my_tuple = ([1,2,3],('tomato','grapes','cherry'),[3.4 ,4.1 ,6.2])\n",
    "print(\"this is a nested tuple :\" ,my_tuple)\n",
    "\n",
    "my_tuple_2 = (1,2,3)\n",
    "print(\"this is a simple tuple :\",my_tuple_2 )"
   ]
  },
  {
   "cell_type": "code",
   "execution_count": 31,
   "id": "a49ad3dc",
   "metadata": {},
   "outputs": [
    {
     "name": "stdout",
     "output_type": "stream",
     "text": [
      "Enter value of a :2\n",
      "Enter value of b :3\n",
      "Enter value of c :5\n",
      "c is larger\n"
     ]
    }
   ],
   "source": [
    "#Write a python program to find the largest of three numbers.\n",
    "a = float(input(\"Enter value of a :\"))\n",
    "b = float(input(\"Enter value of b :\"))\n",
    "c = float(input(\"Enter value of c :\"))\n",
    "\n",
    "if (a>b) and (a>c):\n",
    "    print(\"a is larger\")\n",
    "elif (b>a) and (b>c):\n",
    "    print(\"B is larger\")\n",
    "else:\n",
    "    print(\"c is larger\")"
   ]
  },
  {
   "cell_type": "code",
   "execution_count": 10,
   "id": "b8deaba2",
   "metadata": {},
   "outputs": [
    {
     "name": "stdout",
     "output_type": "stream",
     "text": [
      "\n",
      "* \n",
      "* * \n",
      "* * * \n",
      "* * * * \n",
      "* * * * * \n",
      "* * * * \n",
      "* * * \n",
      "* * \n",
      "* \n"
     ]
    }
   ],
   "source": [
    "#Write a Python program to construct the following pattern, using a nested for loop\n",
    "n=5\n",
    "for i in range(n):  \n",
    "    for j in range(i):  \n",
    "        print('*', end=\" \")\n",
    "    print('')\n",
    "for i in range(n, 0, -1):  \n",
    "    for j in range(i):  \n",
    "        print('*', end=\" \")  \n",
    "    print('')\n",
    "\n",
    "    "
   ]
  },
  {
   "cell_type": "code",
   "execution_count": 6,
   "id": "5fcd9267",
   "metadata": {},
   "outputs": [
    {
     "name": "stdout",
     "output_type": "stream",
     "text": [
      "d1 = 24 / 03 / 25\n",
      "d2 = 24/03/25\n",
      "d3 = Mar-24-25\n",
      "d4 = Mon Mar 24 00:00:00 IST 2025\n"
     ]
    }
   ],
   "source": [
    "from datetime import date\n",
    "from time import strftime\n",
    "\n",
    "today = date.today()\n",
    "d1 = today.strftime(\"%d / %m / %y\")\n",
    "print(\"d1 =\",d1)\n",
    "\n",
    "d2 = today.strftime(\"%d/%m/%y\")\n",
    "print(\"d2 =\",d2)\n",
    "\n",
    "d3 = today.strftime(\"%b-%d-%y\")\n",
    "print(\"d3 =\",d3)\n",
    "\n",
    "d4 = today.strftime(\"%a %b %d %H:%M:%S IST %Y\")\n",
    "print(\"d4 =\",d4)"
   ]
  },
  {
   "cell_type": "code",
   "execution_count": 15,
   "id": "9f48c5f6",
   "metadata": {},
   "outputs": [
    {
     "name": "stdout",
     "output_type": "stream",
     "text": [
      "d1 = 24/03/25\n",
      "d2 = Mar-24-25\n",
      "d3 = Mon Mar 24 00:00:2025 IST 2025\n"
     ]
    }
   ],
   "source": [
    "from datetime import date\n",
    "from time import strftime\n",
    "\n",
    "today = date.today()\n",
    "d1 = today.strftime(\"%d/%m/%y\")\n",
    "print(\"d1 =\",d1)\n",
    "\n",
    "d2 = today.strftime(\"%b-%d-%y\")\n",
    "print(\"d2 =\",d2)\n",
    "\n",
    "d3 = today.strftime(\"%a %b %d %H:%M:%Y IST %Y\")\n",
    "print(\"d3 =\",d3)\n"
   ]
  },
  {
   "cell_type": "code",
   "execution_count": 12,
   "id": "7cb7ce27",
   "metadata": {},
   "outputs": [
    {
     "name": "stdout",
     "output_type": "stream",
     "text": [
      "* \n",
      "* * \n",
      "* * * \n",
      "* * * * \n",
      "* * * * * \n",
      "* * * * \n",
      "* * * \n",
      "* * \n",
      "* \n"
     ]
    }
   ],
   "source": [
    "n = 5\n",
    "for i in range(n):\n",
    "    for j in range(i+1):\n",
    "        print(\"*\",end = \" \")\n",
    "    print()\n",
    "for i in range(n-1 ,0 ,-1):\n",
    "    for j in range(i):\n",
    "        print(\"*\",end = \" \")\n",
    "    print()"
   ]
  },
  {
   "cell_type": "code",
   "execution_count": null,
   "id": "947fea19",
   "metadata": {},
   "outputs": [],
   "source": []
  },
  {
   "cell_type": "code",
   "execution_count": null,
   "id": "1bcea93c",
   "metadata": {},
   "outputs": [],
   "source": []
  }
 ],
 "metadata": {
  "kernelspec": {
   "display_name": "Python 3 (ipykernel)",
   "language": "python",
   "name": "python3"
  },
  "language_info": {
   "codemirror_mode": {
    "name": "ipython",
    "version": 3
   },
   "file_extension": ".py",
   "mimetype": "text/x-python",
   "name": "python",
   "nbconvert_exporter": "python",
   "pygments_lexer": "ipython3",
   "version": "3.8.3"
  }
 },
 "nbformat": 4,
 "nbformat_minor": 5
}
