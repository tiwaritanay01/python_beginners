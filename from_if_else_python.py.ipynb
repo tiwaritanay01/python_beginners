{
 "cells": [
  {
   "cell_type": "code",
   "execution_count": 1,
   "metadata": {},
   "outputs": [
    {
     "name": "stdout",
     "output_type": "stream",
     "text": [
      "Yes , a is greater than b !\n",
      "Yes , above given variables are equal\n",
      "difference of age is always defined\n"
     ]
    }
   ],
   "source": [
    "a=67\n",
    "b=33\n",
    "if a>b:\n",
    "    print(\"Yes , a is greater than b !\")\n",
    "    \n",
    "c=54\n",
    "d=54\n",
    "if c>d:\n",
    "    print(\"Yes, c is greater than d\")\n",
    "elif c<d:\n",
    "    print(True) # elif is a keyword in python which says if previous condition is not true then try this condition\n",
    "elif c==d:\n",
    "    print(\"Yes , above given variables are equal\")\n",
    "#elif can be used multiple times in python to make a condition true\n",
    "#create possiblities by using elif keyword\n",
    "\n",
    "child1 = 23\n",
    "child2 = 34\n",
    "if child1>child2:\n",
    "    print(\"child1 is elder too child2\")\n",
    "elif child1!=child2:\n",
    "    print(\"difference of age is always defined\")\n",
    "elif child1==child2:\n",
    "    print(\"both children are of same age \")\n",
    "else:\n",
    "    print(\"child1 is ypunger to child2\")\n"
   ]
  },
  {
   "cell_type": "code",
   "execution_count": 2,
   "metadata": {},
   "outputs": [
    {
     "name": "stdout",
     "output_type": "stream",
     "text": [
      "A\n",
      "D\n"
     ]
    }
   ],
   "source": [
    "a= 34\n",
    "b=12\n",
    "print(\"A\") if a>b else print(\"B\") #short hand conditioning does'nt require a colon\n",
    "# but if tried to write a multi line code it will raise a error it must be run by traditional code way\n",
    "#other way of doing multiline by shorthand is :\n",
    "c=35\n",
    "d=56\n",
    "print(\"C\") if c>d else print(\"=\") if c==d else print(\"D\")\n",
    "# compressed way of writting if-elif-else statement is mentioned above"
   ]
  },
  {
   "cell_type": "code",
   "execution_count": 3,
   "metadata": {},
   "outputs": [
    {
     "name": "stdout",
     "output_type": "stream",
     "text": [
      "only second condition is true\n",
      "True\n"
     ]
    }
   ],
   "source": [
    "#logical operators\n",
    "a= 400\n",
    "b= 90000\n",
    "c= 900\n",
    "if a>b and c>a:\n",
    "    print(\"both statements are true\")# in and logic if both statements are true only then it exexcutes\n",
    "elif a>b:\n",
    "    print(\"only first condition is true\")\n",
    "elif c>a:\n",
    "    print(\"only second condition is true\")\n",
    "elif b>c or a>c :\n",
    "    print(\"or statemnet fits the logical operator\") #or logical operator executes eventhough only one statement is true \n",
    "else:\n",
    "    print(\"none of the statements are true\") # however in our code or condition does'nt work in its true mathematical sense since we have a elif condition to elaborate the same    \n",
    "r= 400\n",
    "t= 90000\n",
    "y= 900\n",
    "if r>t or t>y:\n",
    "    print(True)   # here the condition works in tis true maths sense as no alternative statement is available  "
   ]
  },
  {
   "cell_type": "code",
   "execution_count": 4,
   "metadata": {},
   "outputs": [
    {
     "name": "stdout",
     "output_type": "stream",
     "text": [
      "b is greater than a \n"
     ]
    }
   ],
   "source": [
    "a= 34\n",
    "b= 56\n",
    "if not b > a:\n",
    "    print(\"a is not greater than b\")\n",
    "else:\n",
    "    print(\"b is greater than a \")\n",
    "    #to make mathematical logic ops active one need not give alternative staements"
   ]
  },
  {
   "cell_type": "code",
   "execution_count": 5,
   "metadata": {},
   "outputs": [],
   "source": [
    "#pass statement eliminates if else emptiness errors\n",
    "a = 33\n",
    "b = 200\n",
    "\n",
    "if b > a:\n",
    "    pass\n",
    "#pass does not print any output "
   ]
  },
  {
   "cell_type": "code",
   "execution_count": 10,
   "metadata": {},
   "outputs": [
    {
     "name": "stdout",
     "output_type": "stream",
     "text": [
      "1\n",
      "2\n",
      "3\n",
      "4\n",
      "5\n"
     ]
    }
   ],
   "source": [
    "i = 1\n",
    "while i < 100:\n",
    "    print(i)\n",
    "    if i == 5 :\n",
    "        break\n",
    "    i += 1\n",
    " "
   ]
  },
  {
   "cell_type": "code",
   "execution_count": 11,
   "metadata": {},
   "outputs": [
    {
     "name": "stdout",
     "output_type": "stream",
     "text": [
      "100\n"
     ]
    }
   ],
   "source": [
    "i = 1\n",
    "while i < 100:\n",
    "    \n",
    "    i += 1 \n",
    "    if i == 5 :\n",
    "        \n",
    "   \n",
    "        continue # jump directly to the next item\n",
    "print(i)"
   ]
  },
  {
   "cell_type": "code",
   "execution_count": 6,
   "metadata": {},
   "outputs": [
    {
     "name": "stdout",
     "output_type": "stream",
     "text": [
      "1\n",
      "2\n",
      "3\n",
      "4\n",
      "5\n",
      "6\n",
      "i is no longer larger than 6\n"
     ]
    }
   ],
   "source": [
    "i = 1 \n",
    "while i <= 6:\n",
    "    print(i)\n",
    "    i+=1\n",
    "else:\n",
    "    print(\"i is no longer larger than 6\")"
   ]
  },
  {
   "cell_type": "code",
   "execution_count": 10,
   "metadata": {},
   "outputs": [
    {
     "name": "stdout",
     "output_type": "stream",
     "text": [
      "0\n",
      "1\n",
      "2\n",
      "3\n",
      "4\n",
      "5\n",
      "x is no longer less than 6\n",
      "2\n",
      "3\n",
      "4\n",
      "5\n",
      "2\n",
      "6\n",
      "10\n",
      "14\n",
      "18\n",
      "22\n",
      "26\n"
     ]
    }
   ],
   "source": [
    "for x in range(6):\n",
    "    print(x)\n",
    "print(\"x is no longer less than 6\")\n",
    "for c in range(2,6):\n",
    "    print(c)\n",
    "    \n",
    "for v in range (2,30,4):\n",
    "    print(v)#increment the sequence by 4 in the range\n"
   ]
  },
  {
   "cell_type": "code",
   "execution_count": 7,
   "metadata": {},
   "outputs": [
    {
     "name": "stdout",
     "output_type": "stream",
     "text": [
      "1\n",
      "2\n",
      "3\n",
      "4\n",
      "5\n",
      "6\n",
      "i is no longer larger than 6\n"
     ]
    }
   ],
   "source": [
    "i = 1\n",
    "while i <= 6:\n",
    "    print(i)   # alternative for kernel 7 code written in shorthand of i = i + 1 in line 4\n",
    "    i = i + 1\n",
    "else:\n",
    "    print(\"i is no longer larger than 6\")"
   ]
  },
  {
   "cell_type": "code",
   "execution_count": 14,
   "metadata": {},
   "outputs": [
    {
     "name": "stdout",
     "output_type": "stream",
     "text": [
      "0\n",
      "1\n",
      "2\n",
      "3\n",
      "4\n",
      "5\n",
      "6\n",
      "finally , finished\n"
     ]
    }
   ],
   "source": [
    "for x in range (0,7):\n",
    "    print(x)\n",
    "else:\n",
    "    print(\"finally , finished\")"
   ]
  },
  {
   "cell_type": "code",
   "execution_count": 20,
   "metadata": {},
   "outputs": [
    {
     "name": "stdout",
     "output_type": "stream",
     "text": [
      "0\n",
      "1\n",
      "2\n",
      "red apple\n",
      "red cherry\n",
      "red banana\n",
      "brown apple\n",
      "brown cherry\n",
      "brown banana\n",
      "tasty apple\n",
      "tasty cherry\n",
      "tasty banana\n"
     ]
    }
   ],
   "source": [
    "for x in range (0,5):\n",
    "    if x==3: break\n",
    "    print(x)\n",
    "else :\n",
    "    print(\"Finallly , Finished\")\n",
    "    #else statement does not work if break stmmt is used in the code\n",
    "    \n",
    "adj = [\"red\",\"brown\",\"tasty\"]\n",
    "fruits = [\"apple\",\"cherry\",\"banana\"]\n",
    "\n",
    "for a in adj:\n",
    "    for b in fruits:\n",
    "        print(a,b)\n",
    "#nested for loops "
   ]
  },
  {
   "cell_type": "code",
   "execution_count": 25,
   "metadata": {},
   "outputs": [],
   "source": [
    "for x in [0,1,2]:\n",
    "    \n",
    "#SyntaxError: unexpected EOF while parsing    \n",
    "# if a for loop is empty error is raised hence use :(with proper indentation)\n",
    "    pass\n",
    "#by pass nothing is printed and no error is raised"
   ]
  },
  {
   "cell_type": "code",
   "execution_count": 34,
   "metadata": {},
   "outputs": [
    {
     "name": "stdout",
     "output_type": "stream",
     "text": [
      "hello, world\n"
     ]
    }
   ],
   "source": [
    "# python functions\n",
    "# function is a code block which is given data known as parameters and only returns data when called\n",
    "#creating a function\n",
    "def my_function():    # name error is raised whenever we fail to write the def keyword\n",
    "    print(\"hello, world\") #here def is a keyword\n",
    "my_function() #until and unless called the fumction will not print any parameter"
   ]
  },
  {
   "cell_type": "code",
   "execution_count": 51,
   "metadata": {},
   "outputs": [
    {
     "name": "stdout",
     "output_type": "stream",
     "text": [
      "ramu pass\n",
      "ramesh pass\n",
      "suresh pass\n",
      "naresh  6 sept\n",
      "ramesh 4 aug \n",
      "suresh  1 april\n"
     ]
    }
   ],
   "source": [
    "def my_results(name): # if function name is not written with underscore instead of space it is a syntax error\n",
    "    print(name +\" \"+ \"pass\") #empty double apostrophe is for space bar in the output\n",
    "my_results(\"ramu\")\n",
    "my_results(\"ramesh\"), #comma is not necessary without it code will execute properly in this case\n",
    "my_results(\"suresh\")\n",
    "#my_results need the extra information (arguments) that is the name to print\n",
    "# if argument is empty the code will not execute\n",
    "# if i call an empty fuction type error is raised and specified that argument is required to execute the code\n",
    "\n",
    "# parameter(param) is a variable \n",
    "#argument(args) is a value\n",
    "# parameters can be called by keeping function empty () while calling it \n",
    "#same does not go with args\n",
    "\n",
    "#number of args\n",
    "def my_birthdays(dates,names): #number of args to expect are defined here it is 2 now\n",
    "    print(names + \" \" + dates) #changing the order no error is raised\n",
    "my_birthdays(\" 6 sept\" , \"naresh\")#double apostrophe are importand becoz it might raise an error other than value not defined\n",
    "my_birthdays(\"4 aug \" , \"ramesh\")\n",
    "my_birthdays(\" 1 april\" , \"suresh\" ) #type error is raised if more than expected args"
   ]
  },
  {
   "cell_type": "code",
   "execution_count": 57,
   "metadata": {},
   "outputs": [
    {
     "name": "stdout",
     "output_type": "stream",
     "text": [
      "socializing via  zoom\n"
     ]
    }
   ],
   "source": [
    "def my_teams(*social): # * giving a star makes argument valid for desired number of arguments\n",
    "    print(\"socializing via \" + \" \" + social[2]) #if slicing is improper index out of range error is generated\n",
    "my_teams(\"meta\",\"teams\",\"zoom\",\"gmail\") #the tuple should be named by the funtion not by argument\n",
    "#the arbitary argumnet can only take values from a tuple or else it raises an error of object not subscriptable"
   ]
  },
  {
   "cell_type": "code",
   "execution_count": 58,
   "metadata": {},
   "outputs": [
    {
     "name": "stdout",
     "output_type": "stream",
     "text": [
      "youngest child is mysql\n"
     ]
    }
   ],
   "source": [
    "def my_function(child1 , child2 , child3):\n",
    "    print(\"youngest child is \" + child3)\n",
    "my_function(child1 = \"mongo\" , child2 = \"python\" , child3 = \"mysql\")"
   ]
  },
  {
   "cell_type": "code",
   "execution_count": 62,
   "metadata": {},
   "outputs": [
    {
     "name": "stdout",
     "output_type": "stream",
     "text": [
      "name: alice\n",
      "age: 25\n",
      "city: new york\n",
      "name: bob\n",
      "age: 34\n",
      "city: los angeles\n",
      "profession: gambler\n"
     ]
    }
   ],
   "source": [
    "def print_details(**kwargs): #multiple keyword arguments  \n",
    "    for key , value in kwargs.items(): #without this name error shows up\n",
    "        print(f\"{key}: {value}\")\n",
    "print_details(name = \"alice\", age = 25 , city = \"new york\")\n",
    "print_details(name = \"bob\" , age = 34 , city = \"los angeles\" , profession = \"gambler\")\n"
   ]
  },
  {
   "cell_type": "code",
   "execution_count": 64,
   "metadata": {},
   "outputs": [
    {
     "name": "stdout",
     "output_type": "stream",
     "text": [
      "i am from India\n",
      "i am from pakistan\n",
      "i am from china\n",
      "i am from sweden\n"
     ]
    }
   ],
   "source": [
    "def my_function(country = \"sweden\"):\n",
    "    print(\"i am from\" + \" \" +country)\n",
    "my_function(\"India\")\n",
    "my_function(\"pakistan\")\n",
    "my_function(\"china\")\n",
    "my_function()"
   ]
  },
  {
   "cell_type": "code",
   "execution_count": 80,
   "metadata": {},
   "outputs": [
    {
     "name": "stdout",
     "output_type": "stream",
     "text": [
      " banana\n",
      "grapes\n",
      "apple\n",
      "15\n",
      "35\n",
      "50\n",
      "3\n",
      "5\n",
      "26\n"
     ]
    }
   ],
   "source": [
    "def my_function(fruits):#line one and two args should always match\n",
    "    for x in fruits:\n",
    "        \n",
    "        print(x)\n",
    "fruits = [ \" banana\" , \"grapes\" , \"apple\"]\n",
    "my_function(fruits)\n",
    "\n",
    "def multiplication(x):\n",
    "    return 5*x\n",
    "print(multiplication(3))\n",
    "print(multiplication(7))\n",
    "print(multiplication(10))\n",
    "\n",
    "def your_function(x,/):\n",
    "    print(x)\n",
    "your_function(3)\n",
    "    #function cannot be empty so to go error free you need to write a pass statement in the function whicch is kept empty\n",
    "\n",
    "def second_function(*,x):\n",
    "    print(x)\n",
    "    \n",
    "second_function(x=5)\n",
    "\n",
    "def last_function(a, b, / ,* ,c , d):\n",
    "    print(a+b+c+d)\n",
    "last_function(5,6,c=7, d=8 , ) # *, / are positonal and keyword args respectively"
   ]
  },
  {
   "cell_type": "code",
   "execution_count": 82,
   "metadata": {},
   "outputs": [
    {
     "name": "stdout",
     "output_type": "stream",
     "text": [
      "\r",
      "\r",
      "Recursion Examples is Following\n",
      "1\n",
      "3\n",
      "6\n",
      "10\n",
      "15\n",
      "21\n"
     ]
    },
    {
     "data": {
      "text/plain": [
       "21"
      ]
     },
     "execution_count": 82,
     "metadata": {},
     "output_type": "execute_result"
    }
   ],
   "source": [
    "def tri_recursion(k):\n",
    "    if (k > 0):\n",
    "        result = k + tri_recursion(k-1) #this printing works when tri_recursion(6) is greater than 0 \n",
    "        print(result) # this function calls itself till desired recursion\n",
    "        # first k is k =1 \n",
    "        #as per result formula it adds 1 + 0 =1\n",
    "        # then k = 2 and then 2 + 1 =3 \n",
    "        # then k=3 and 3 + 3(the past recursion value is taken in k-1 ) ...........\n",
    "        # ............. it goes till k = 6 (and final value is printed)\n",
    "    else:\n",
    "        result = 0\n",
    "    return result # if checked value is zero result is automatically zero printed\n",
    "print(\"\\r\\rRecursion Examples is Following\")\n",
    "tri_recursion(6)"
   ]
  },
  {
   "cell_type": "code",
   "execution_count": 91,
   "metadata": {},
   "outputs": [
    {
     "name": "stdout",
     "output_type": "stream",
     "text": [
      "30\n"
     ]
    }
   ],
   "source": [
    "x = lambda a,b : a + b\n",
    "x = lambda a,b: a*b\n",
    "\n",
    "print(x(5,6)) \n",
    "# i cannot write multipe values of lambda because it can make multiple expression but not multiple values\n",
    "#TypeError: <lambda>() takes 1 positional argument but 2 were given this error is raised"
   ]
  },
  {
   "cell_type": "code",
   "execution_count": 94,
   "metadata": {},
   "outputs": [
    {
     "name": "stdout",
     "output_type": "stream",
     "text": [
      "22\n",
      "33\n"
     ]
    }
   ],
   "source": [
    "def myfunc(n):\n",
    "    return lambda a : a *n\n",
    "mydoubler = myfunc(2)\n",
    "\n",
    "print(mydoubler(11))\n",
    "\n",
    "mytripler = myfunc(11)\n",
    "print(mytripler(3))"
   ]
  },
  {
   "cell_type": "code",
   "execution_count": 99,
   "metadata": {},
   "outputs": [
    {
     "name": "stdout",
     "output_type": "stream",
     "text": [
      "5\n",
      "john\n",
      "46\n"
     ]
    }
   ],
   "source": [
    "class myclass:\n",
    "    x=5\n",
    "p1 = myclass()\n",
    "print(p1.x)\n",
    "\n",
    "class person:\n",
    "    def __init__(self, name , age):\n",
    "        self.name = name\n",
    "        self.age = age \n",
    "p2 = person (\"john\", \"46\")\n",
    "print(p2.name)\n",
    "print(p2.age)"
   ]
  },
  {
   "cell_type": "code",
   "execution_count": 117,
   "metadata": {},
   "outputs": [
    {
     "name": "stdout",
     "output_type": "stream",
     "text": [
      "jefferey dahmer (46)\n"
     ]
    }
   ],
   "source": [
    "class person:\n",
    "    def __init__(self, name ,space, lastname,gap,age ):\n",
    "        self.name = name\n",
    "        self.space = space \n",
    "        self.lastname = lastname\n",
    "        self.gap = gap\n",
    "        self.age = age\n",
    "    def __str__(self):\n",
    "        return f\"{self.name}{self.space }{self.lastname }{self.gap}({self.age})\"\n",
    "p2 = person (\"jefferey\" ,\" \",\"dahmer\",\" \", \"46\", )\n",
    "print(p2)"
   ]
  },
  {
   "cell_type": "code",
   "execution_count": 141,
   "metadata": {},
   "outputs": [
    {
     "name": "stdout",
     "output_type": "stream",
     "text": [
      "hello my name is john\n",
      "65\n",
      "name =  alice\n"
     ]
    }
   ],
   "source": [
    "class person:\n",
    "    def __init__(self, name , age):\n",
    "        self.name = name\n",
    "        self.age = age\n",
    "    def myfunc(self):\n",
    "        print(f\"hello my name is \" + self.name )\n",
    "p1 = person(\"john\",56)\n",
    "p1.myfunc()\n",
    "p1.age = 65\n",
    "print( p1.age)#data type error from int to str :\"age  \"+ p1.age\n",
    "p1.name =(\"name\" +\" \"+ \"= \"+\" \" +\"alice\") \n",
    "print(p1.name) # I cannot rename the person john to alice together writting their age because it won't give any error but memory location of the alice, 85\n",
    "#for deleting it should be written AS del p1.age or del p1\n"
   ]
  },
  {
   "cell_type": "code",
   "execution_count": 156,
   "metadata": {},
   "outputs": [
    {
     "name": "stdout",
     "output_type": "stream",
     "text": [
      "John doe\n"
     ]
    }
   ],
   "source": [
    "class Person:\n",
    "    def __init__(self,lname,fname):\n",
    "        self.lastname = lname\n",
    "        self.firstname = fname #positional argument error is possible\n",
    "    def printname(self):\n",
    "        print(self.lastname,self.firstname)\n",
    "        \n",
    "x = Person(\"John\",\"doe\")\n",
    "x.printname()"
   ]
  },
  {
   "cell_type": "code",
   "execution_count": 169,
   "metadata": {},
   "outputs": [
    {
     "name": "stdout",
     "output_type": "stream",
     "text": [
      "mike olsen\n"
     ]
    }
   ],
   "source": [
    "class person:\n",
    "    def __init__(self,fname,lname):\n",
    "        self.firstname = fname\n",
    "        self.lastname = lname\n",
    "    def printname(self):\n",
    "        print(self.firstname , self.lastname )\n",
    "class student(person):\n",
    "    pass\n",
    "x = student(\"mike\",\"olsen\")\n",
    "x.printname() # we cannot call parent class(person) because it cannot access its child class (student)"
   ]
  },
  {
   "cell_type": "code",
   "execution_count": null,
   "metadata": {},
   "outputs": [],
   "source": [
    "class person:\n",
    "    def __init__(self, fname, lname): #constructor \n",
    "        self.firstname = fname\n",
    "        self.lastname = lname   ##initialization is required in a constructor\n",
    "    def printname(self):\n",
    "        print(self.firstname, self.lastname)\n",
    "\n",
    "class student(person):\n",
    "    def __init__(self, fname, lname, student_id,graduation_year): #new positional argument is added to the constructor\n",
    "        super().__init__(fname, lname)  #automaticaly inherits parents class by super()  \n",
    "        person.__init__(self,fname,lname) # Call the parent class's __init__ if we write pass instead of super() child class cannot create its own logic and attributes\n",
    "            \n",
    "        self.student_id = student_id # Additional attribute for student\n",
    "        self.graduation_year = graduation_year\n",
    "       \n",
    "    def printstudent(self):\n",
    "        print(self.firstname, self.lastname, self.student_id,self.graduation_year)\n",
    "    def welcome(self):\n",
    "        print(\"welcome\", self.firstname ,self.lastname , \"to class of \" , self.graduation_year, \"your enrollment nummber is \", self.student_id )\n",
    "\n",
    "# Creating an instance of student\n",
    "x = student(\"mike\", \"olsen\", \"12345\", \"2019\")\n",
    "x.printname()       # This works, inherited from person\n",
    "x.printstudent()    # This works, defined in student\n",
    "x.welcome()"
   ]
  },
  {
   "cell_type": "code",
   "execution_count": null,
   "metadata": {},
   "outputs": [],
   "source": []
  }
 ],
 "metadata": {
  "kernelspec": {
   "display_name": "Python 3",
   "language": "python",
   "name": "python3"
  },
  "language_info": {
   "codemirror_mode": {
    "name": "ipython",
    "version": 3
   },
   "file_extension": ".py",
   "mimetype": "text/x-python",
   "name": "python",
   "nbconvert_exporter": "python",
   "pygments_lexer": "ipython3",
   "version": "3.8.3"
  }
 },
 "nbformat": 4,
 "nbformat_minor": 4
}
