{
 "cells": [
  {
   "cell_type": "code",
   "execution_count": 273,
   "metadata": {},
   "outputs": [
    {
     "name": "stdout",
     "output_type": "stream",
     "text": [
      "hello,world!\n",
      "twinkle twinkle little star\n",
      "how i wonder what you are\n",
      "up above the world so high\n",
      "like a diamond u in the sky\n",
      "twinkle twinkle little star\n"
     ]
    }
   ],
   "source": [
    "print(\"hello,world!\")\n",
    "print(\"twinkle twinkle little star\")\n",
    "print(\"how i wonder what you are\")\n",
    "print(\"up above the world so high\")\n",
    "print(\"like a diamond u in the sky\")\n",
    "print(\"twinkle twinkle little star\")\n",
    "\t"
   ]
  },
  {
   "cell_type": "code",
   "execution_count": 45,
   "metadata": {},
   "outputs": [
    {
     "name": "stdout",
     "output_type": "stream",
     "text": [
      "five is greater than two !\n",
      "two is greater than 1!\n"
     ]
    }
   ],
   "source": [
    "if 5 > 2:\n",
    "    print(\"five is greater than two !\")\n",
    "    if 2 > 1:\n",
    "        print(\"two is greater than 1!\")"
   ]
  },
  {
   "cell_type": "code",
   "execution_count": 46,
   "metadata": {},
   "outputs": [
    {
     "name": "stdout",
     "output_type": "stream",
     "text": [
      "hello world\n"
     ]
    }
   ],
   "source": [
    "\"\"\"this is a comment \n",
    "that is multiline \"\"\"\n",
    "print(\"hello world\")"
   ]
  },
  {
   "cell_type": "code",
   "execution_count": 47,
   "metadata": {},
   "outputs": [
    {
     "name": "stdout",
     "output_type": "stream",
     "text": [
      "Didn't recognize theme name: [chesterish]\n",
      "Available Themes: \n",
      "   chesterish\n",
      "   grade3\n",
      "   gruvboxd\n",
      "   gruvboxl\n",
      "   monokai\n",
      "   oceans16\n",
      "   onedork\n",
      "   solarizedd\n",
      "   solarizedl\n"
     ]
    },
    {
     "name": "stderr",
     "output_type": "stream",
     "text": [
      "c:\\users\\tiwar\\anaconda3\\lib\\site-packages\\numpy\\_distributor_init.py:30: UserWarning: loaded more than 1 DLL from .libs:\n",
      "c:\\users\\tiwar\\anaconda3\\lib\\site-packages\\numpy\\.libs\\libopenblas.GK7GX5KEQ4F6UYO3P26ULGBQYHGQO7J4.gfortran-win_amd64.dll\n",
      "c:\\users\\tiwar\\anaconda3\\lib\\site-packages\\numpy\\.libs\\libopenblas.NOIJJG62EMASZI6NYURL6JBKM4EVBGM7.gfortran-win_amd64.dll\n",
      "  warnings.warn(\"loaded more than 1 DLL from .libs:\\n%s\" %\n"
     ]
    }
   ],
   "source": [
    "!jt -r "
   ]
  },
  {
   "cell_type": "code",
   "execution_count": 48,
   "metadata": {},
   "outputs": [
    {
     "name": "stdout",
     "output_type": "stream",
     "text": [
      "5\n",
      "john\n"
     ]
    }
   ],
   "source": [
    "x=5\n",
    "y=\"john\"\n",
    "print(x)\n",
    "print(y)"
   ]
  },
  {
   "cell_type": "code",
   "execution_count": 49,
   "metadata": {},
   "outputs": [
    {
     "name": "stdout",
     "output_type": "stream",
     "text": [
      "sally\n"
     ]
    }
   ],
   "source": [
    "x=5\n",
    "x=\"sally\"\n",
    "print(x)"
   ]
  },
  {
   "cell_type": "code",
   "execution_count": 50,
   "metadata": {},
   "outputs": [
    {
     "name": "stdout",
     "output_type": "stream",
     "text": [
      "3\n",
      "5\n",
      "10.3456\n"
     ]
    }
   ],
   "source": [
    "x=str(3)\n",
    "y=int(5)\n",
    "z=float(10.3456)\n",
    "print(x)\n",
    "print(y)\n",
    "print(z)"
   ]
  },
  {
   "cell_type": "code",
   "execution_count": 51,
   "metadata": {},
   "outputs": [
    {
     "name": "stderr",
     "output_type": "stream",
     "text": [
      "c:\\users\\tiwar\\anaconda3\\lib\\site-packages\\numpy\\_distributor_init.py:30: UserWarning: loaded more than 1 DLL from .libs:\n",
      "c:\\users\\tiwar\\anaconda3\\lib\\site-packages\\numpy\\.libs\\libopenblas.GK7GX5KEQ4F6UYO3P26ULGBQYHGQO7J4.gfortran-win_amd64.dll\n",
      "c:\\users\\tiwar\\anaconda3\\lib\\site-packages\\numpy\\.libs\\libopenblas.NOIJJG62EMASZI6NYURL6JBKM4EVBGM7.gfortran-win_amd64.dll\n",
      "  warnings.warn(\"loaded more than 1 DLL from .libs:\\n%s\" %\n",
      "usage: jt [-h] [-l] [-t THEME] [-f MONOFONT] [-fs MONOSIZE] [-nf NBFONT]\n",
      "          [-nfs NBFONTSIZE] [-tf TCFONT] [-tfs TCFONTSIZE] [-dfs DFFONTSIZE]\n",
      "          [-ofs OUTFONTSIZE] [-mathfs MATHFONTSIZE] [-m MARGINS]\n",
      "          [-cursw CURSORWIDTH] [-cursc CURSORCOLOR] [-cellw CELLWIDTH]\n",
      "          [-lineh LINEHEIGHT] [-altp] [-altmd] [-altout] [-P] [-T] [-N] [-kl]\n",
      "          [-vim] [-r] [-dfonts]\n",
      "jt: error: unrecognized arguments: 1-onedork\n"
     ]
    }
   ],
   "source": [
    "!jt 1-onedork\n",
    "\n"
   ]
  },
  {
   "cell_type": "code",
   "execution_count": 52,
   "metadata": {},
   "outputs": [
    {
     "name": "stdout",
     "output_type": "stream",
     "text": [
      "<class 'int'>\n",
      "<class 'str'>\n"
     ]
    }
   ],
   "source": [
    "x=5\n",
    "y=\"john\"\n",
    "print(type(x))\n",
    "print(type(y))"
   ]
  },
  {
   "cell_type": "code",
   "execution_count": 53,
   "metadata": {},
   "outputs": [
    {
     "name": "stdout",
     "output_type": "stream",
     "text": [
      "python is awesome\n"
     ]
    }
   ],
   "source": [
    "x=\"python\"\n",
    "y=  \"is\"  \n",
    "z= \"awesome\"\n",
    "print(x , y, z)"
   ]
  },
  {
   "cell_type": "code",
   "execution_count": 54,
   "metadata": {},
   "outputs": [
    {
     "name": "stdout",
     "output_type": "stream",
     "text": [
      "this is an example of global variablefantastic\n",
      "this is local/global string isawesome\n"
     ]
    }
   ],
   "source": [
    "x=\"awesome\"\n",
    "def myfunc():\n",
    "    x=\"fantastic\"\n",
    "    print(\"this is an example of global variable\" + x )\n",
    "    \n",
    "myfunc()\n",
    "print(\"this is local/global string is\" + x)"
   ]
  },
  {
   "cell_type": "code",
   "execution_count": 55,
   "metadata": {},
   "outputs": [
    {
     "name": "stdout",
     "output_type": "stream",
     "text": [
      "python is fantastic\n"
     ]
    }
   ],
   "source": [
    "def myfunc():\n",
    "    global x\n",
    "    x= \"fantastic\"\n",
    "myfunc()\n",
    "print(\"python is \"+x) \n",
    "#it is a global variable hence even can be print outside the calling function"
   ]
  },
  {
   "cell_type": "code",
   "execution_count": 56,
   "metadata": {},
   "outputs": [
    {
     "name": "stdout",
     "output_type": "stream",
     "text": [
      "python is fantastic\n"
     ]
    }
   ],
   "source": [
    "def myfunc():\n",
    "    x= \"fantastic\"\n",
    "    print(\"python is \"+x) \n",
    "myfunc()\n",
    "#this is a local variable hence it can be only defined insie the scope of the calling function def myfunc():\n",
    "   \n"
   ]
  },
  {
   "cell_type": "code",
   "execution_count": 57,
   "metadata": {},
   "outputs": [
    {
     "name": "stdout",
     "output_type": "stream",
     "text": [
      "<class 'dict'>\n"
     ]
    }
   ],
   "source": [
    "x={\"name\" : \"tanay\",\"age\":\"18\"}\n",
    "print(type(x))"
   ]
  },
  {
   "cell_type": "code",
   "execution_count": 58,
   "metadata": {},
   "outputs": [
    {
     "name": "stdout",
     "output_type": "stream",
     "text": [
      "1.0 2 (1+0j)\n"
     ]
    }
   ],
   "source": [
    "x=1\n",
    "y=2.34567888\n",
    "z=3+7j\n",
    "#convert integer to float\n",
    "a=float(x)\n",
    "#convert float to integer\n",
    "b=int(y)\n",
    "#convert int to complex\n",
    "c=complex(x)\n",
    "print(a,b,c)"
   ]
  },
  {
   "cell_type": "code",
   "execution_count": 59,
   "metadata": {},
   "outputs": [
    {
     "name": "stdout",
     "output_type": "stream",
     "text": [
      "7\n"
     ]
    }
   ],
   "source": [
    "import random\n",
    "\n",
    "print(random.randrange(1,10))\n",
    "#this code imports random module in-built in python\n",
    "#this code generates random numbers in the given number range"
   ]
  },
  {
   "cell_type": "code",
   "execution_count": 60,
   "metadata": {},
   "outputs": [
    {
     "name": "stdout",
     "output_type": "stream",
     "text": [
      "alright he is\n",
      "'i am'\n",
      "ko\n",
      "e\n"
     ]
    }
   ],
   "source": [
    "print(\"alright he is\")\n",
    "print(\"'i am'\")\n",
    "print('ko')\n",
    "\n",
    "\n",
    "#strings are arrays\n",
    "a= \"hello,world\"\n",
    "print(a[1])"
   ]
  },
  {
   "cell_type": "code",
   "execution_count": 61,
   "metadata": {},
   "outputs": [
    {
     "name": "stdout",
     "output_type": "stream",
     "text": [
      "1\n",
      "2\n",
      "3\n",
      "4\n",
      "5\n",
      "6\n",
      "7\n",
      "8\n",
      "9\n",
      "0\n"
     ]
    }
   ],
   "source": [
    "for x in \"1234567890\":\n",
    "    print(x)"
   ]
  },
  {
   "cell_type": "code",
   "execution_count": 62,
   "metadata": {},
   "outputs": [
    {
     "name": "stdout",
     "output_type": "stream",
     "text": [
      "5\n"
     ]
    }
   ],
   "source": [
    "a=\"tanay\"\n",
    "print(len(a))"
   ]
  },
  {
   "cell_type": "code",
   "execution_count": 63,
   "metadata": {},
   "outputs": [
    {
     "name": "stdout",
     "output_type": "stream",
     "text": [
      "True\n"
     ]
    }
   ],
   "source": [
    "txt=\"check if something is present in the string\"\n",
    "print(\"something\" in txt)"
   ]
  },
  {
   "cell_type": "code",
   "execution_count": 64,
   "metadata": {},
   "outputs": [
    {
     "name": "stdout",
     "output_type": "stream",
     "text": [
      "yes something is present in the given string\n"
     ]
    }
   ],
   "source": [
    "x=\"check if something is present in the string\"\n",
    "if \"something\" in x:\n",
    "    print(\"yes something is present in the given string\")"
   ]
  },
  {
   "cell_type": "code",
   "execution_count": 262,
   "metadata": {},
   "outputs": [
    {
     "name": "stdout",
     "output_type": "stream",
     "text": [
      "housie play numbers are:\n",
      "[85]\n"
     ]
    }
   ],
   "source": [
    "import random\n",
    "\n",
    "randomList = []\n",
    "\n",
    "# Generate a random number between 1 and 100\n",
    "r = random.randint(1, 100)\n",
    "\n",
    "# If the random number is not already in the list, add it to the list\n",
    "if r not in randomList:\n",
    "    randomList.append(r)\n",
    "\n",
    "print(\"housie play numbers are:\")\n",
    "print(randomList)"
   ]
  },
  {
   "cell_type": "code",
   "execution_count": 111,
   "metadata": {},
   "outputs": [
    {
     "name": "stdout",
     "output_type": "stream",
     "text": [
      "qwearty not in x\n"
     ]
    }
   ],
   "source": [
    "x=\"something is not present in the string\"\n",
    "if \"qwearty\" not in x:\n",
    " print(\"qwearty not in x\")"
   ]
  },
  {
   "cell_type": "code",
   "execution_count": 112,
   "metadata": {},
   "outputs": [
    {
     "name": "stdout",
     "output_type": "stream",
     "text": [
      "\n"
     ]
    }
   ],
   "source": [
    "b=\" hello, world \"\n",
    "print(b[-1:-2])"
   ]
  },
  {
   "cell_type": "code",
   "execution_count": 83,
   "metadata": {},
   "outputs": [
    {
     "name": "stdout",
     "output_type": "stream",
     "text": [
      "HELLO ,WORLD\n"
     ]
    }
   ],
   "source": [
    "a=\"Hello ,World\"\n",
    "print(a.upper())"
   ]
  },
  {
   "cell_type": "code",
   "execution_count": 88,
   "metadata": {},
   "outputs": [
    {
     "name": "stdout",
     "output_type": "stream",
     "text": [
      "WELLO,WORLD\n"
     ]
    }
   ],
   "source": [
    "a=\"HELLO,WORLD\"\n",
    "print(a.replace(\"H\",\"W\"))"
   ]
  },
  {
   "cell_type": "code",
   "execution_count": 90,
   "metadata": {},
   "outputs": [
    {
     "name": "stdout",
     "output_type": "stream",
     "text": [
      "my name is john , my age is 36  \n"
     ]
    }
   ],
   "source": [
    "age = \"36\"\n",
    "txt = f\"my name is john , my age is {age}  \"\n",
    "print(txt)"
   ]
  },
  {
   "cell_type": "code",
   "execution_count": 92,
   "metadata": {},
   "outputs": [
    {
     "name": "stdout",
     "output_type": "stream",
     "text": [
      "price is 1400 rupees\n"
     ]
    }
   ],
   "source": [
    "txt=f\"price is {20*70} rupees\"\n",
    "print(txt)"
   ]
  },
  {
   "cell_type": "code",
   "execution_count": 3,
   "metadata": {},
   "outputs": [
    {
     "name": "stdout",
     "output_type": "stream",
     "text": [
      "we are so called \"vikings\" from the north \n",
      "we are 400 in number\n"
     ]
    }
   ],
   "source": [
    "txt=f\"we are so called \\\"vikings\\\" from the north \\nwe are {100*4} in number\"\n",
    "print(txt  )"
   ]
  },
  {
   "cell_type": "code",
   "execution_count": 5,
   "metadata": {},
   "outputs": [
    {
     "name": "stdout",
     "output_type": "stream",
     "text": [
      "a is greater than b\n"
     ]
    }
   ],
   "source": [
    "a=90\n",
    "b=56\n",
    "if b>a:\n",
    "    print(\"b is greater than a\")\n",
    "else:\n",
    "        print(\"a is greater than b\")\n",
    "        #python boolean values example"
   ]
  },
  {
   "cell_type": "code",
   "execution_count": 7,
   "metadata": {},
   "outputs": [
    {
     "name": "stdout",
     "output_type": "stream",
     "text": [
      "True\n",
      "True\n",
      "True\n",
      "True\n"
     ]
    }
   ],
   "source": [
    "print(bool(\"hello\"))\n",
    "print(bool(\"15\"))\n",
    "exit()\n",
    "x=\"hello\" \n",
    "y=\"15\"\n",
    "print(bool(x))\n",
    "print(bool(y))\n",
    "#Most Values are True\n",
    "#Almost any value is evaluated to True if it has some sort of content.\n",
    "\n",
    "#Any string is True, except empty strings.\n",
    "\n",
    "#Any number is True, except 0.\n",
    "\n",
    "#Any list, tuple, set, and dictionary are True, except empty ones."
   ]
  },
  {
   "cell_type": "code",
   "execution_count": 1,
   "metadata": {
    "scrolled": false
   },
   "outputs": [
    {
     "name": "stdout",
     "output_type": "stream",
     "text": [
      "False False False False False\n",
      "False\n"
     ]
    }
   ],
   "source": [
    "#some false boolean values are given down\n",
    "#this returns false as output\n",
    "\n",
    "\n",
    "x=bool(0)\n",
    "y=bool(\"\")\n",
    "z=bool({})\n",
    "a=bool(())\n",
    "b=bool([])\n",
    "print(x,y,z,a,b)\n",
    "#class defined with _len_function also gives false value\n",
    "class myclass():\n",
    "    def __len__(self):\n",
    "         return 0\n",
    "myobj = myclass()\n",
    "print(bool(myobj))\n",
    "exit()\n",
    "#this is a functiion that returns assigned boolean \n"
   ]
  },
  {
   "cell_type": "code",
   "execution_count": 9,
   "metadata": {},
   "outputs": [
    {
     "name": "stdout",
     "output_type": "stream",
     "text": [
      "YES\n",
      "False\n"
     ]
    }
   ],
   "source": [
    "def myfunction() :\n",
    "    return True #always assign value of True or False in first letter as caps lock\n",
    "  \n",
    "\n",
    "if myfunction():\n",
    "    print(\"YES\") \n",
    "else:\n",
    "    print(\"NO!\")\n",
    "y=200\n",
    "print(isinstance(y,dict))"
   ]
  },
  {
   "cell_type": "code",
   "execution_count": 26,
   "metadata": {},
   "outputs": [
    {
     "name": "stdout",
     "output_type": "stream",
     "text": [
      "both are correct\n",
      "29\n",
      "15\n",
      "154\n",
      "1\n",
      "2494357888\n",
      "3.142857142857143\n"
     ]
    }
   ],
   "source": [
    "#python operator types\n",
    "#arithmetic ops\n",
    "#asignment ops\n",
    "#comparison ops\n",
    "#logical ops \n",
    "#identity ops \n",
    "#membership ops\n",
    "#bitwise ops\n",
    "x=5\n",
    "y=7\n",
    "if x>2 and y<9:\n",
    "    print(\"both are correct\")\n",
    "else:\n",
    "    print(\"one is correct\")\n",
    "    \n",
    "    \n",
    "A=22\n",
    "B=7\n",
    "add= A+B\n",
    "sub=A-B\n",
    "divide=A/B\n",
    "mul=A*B\n",
    "mod=A%B\n",
    "p=A**B\n",
    "print(add)\n",
    "print(sub)\n",
    "print(mul)\n",
    "print(mod)\n",
    "print(p)\n",
    "print(divide)"
   ]
  },
  {
   "cell_type": "code",
   "execution_count": 29,
   "metadata": {},
   "outputs": [
    {
     "name": "stdout",
     "output_type": "stream",
     "text": [
      "['apple', 'pineapple', 'grapes']\n",
      "['mumbai', 'chennai', 'delhi', 'banglore']\n",
      "['apple', 'banana', 'grapes']\n"
     ]
    }
   ],
   "source": [
    "\"\"\"this is python lists \"\"\"\n",
    "list1 = [\"apple\", \"pineapple\", \"grapes\"]\n",
    "list2= [\"mumbai\", \"chennai\", \"delhi\",\"banglore\"]\n",
    "print(list1)\n",
    "print(list2)\n",
    "#a list can store non homogenous values too\n",
    "#this list is a constructor \n",
    "thislist=list((\"apple\",\"banana\",\"grapes\"))\n",
    "print(thislist)"
   ]
  },
  {
   "cell_type": "code",
   "execution_count": 54,
   "metadata": {},
   "outputs": [
    {
     "name": "stdout",
     "output_type": "stream",
     "text": [
      "['cherry', 'orange', 'kiwi']\n",
      "yes,apple is present in x list\n",
      "['apple', 'banana', 'cherry', 'orange', 'kiwi', 'melon', 'mango', 'watermelon']\n",
      "['apple', 'banana', 'cherry', 'watermelon', 'orange', 'kiwi', 'melon', 'mango', 'watermelon']\n"
     ]
    }
   ],
   "source": [
    "x=[\"apple\", \"banana\", \"cherry\", \"orange\", \"kiwi\", \"melon\", \"mango\"]\n",
    "print(x[2:5])\n",
    "if \"apple\" in x:\n",
    "    print(\"yes,apple is present in x list\")\n",
    "else:\n",
    "    print(\"no\")\n",
    "x.append(\"watermelon\")\n",
    "print(x)\n",
    "x.insert(3,\"watermelon\")\n",
    "print(x)\n"
   ]
  },
  {
   "cell_type": "code",
   "execution_count": 61,
   "metadata": {},
   "outputs": [
    {
     "name": "stdout",
     "output_type": "stream",
     "text": [
      "['guava', 'gulmohar', 'sandalwood', 'apple', 'grapes', 'banana']\n",
      "['grapes', 'banana']\n",
      "['gulmohar', 'sandalwood', 'apple', 'grapes', 'banana']\n"
     ]
    }
   ],
   "source": [
    "#this will extend list \n",
    "tropicallist=[\"apple\",\"grapes\",\"banana\"]\n",
    "thislist=[\"guava\",\"gulmohar\",\"sandalwood\"]\n",
    "thislist.extend(tropicallist)\n",
    "print(thislist)\n",
    "tropicallist.remove(\"apple\")\n",
    "print(tropicallist)\n",
    "thislist.remove(\"guava\")\n",
    "print(thislist)"
   ]
  },
  {
   "cell_type": "code",
   "execution_count": 69,
   "metadata": {},
   "outputs": [
    {
     "name": "stdout",
     "output_type": "stream",
     "text": [
      "['gulmohar', 'sandalwood']\n",
      "['gulmohar']\n",
      "[]\n"
     ]
    }
   ],
   "source": [
    "thislist=[\"guava\",\"gulmohar\",\"sandalwood\"]\n",
    "del thislist[0]\n",
    "print(thislist)\n",
    "thislist.pop(1)\n",
    "print(thislist)\n",
    "thislist.clear()\n",
    "print(thislist)"
   ]
  },
  {
   "cell_type": "code",
   "execution_count": 81,
   "metadata": {
    "scrolled": true
   },
   "outputs": [
    {
     "name": "stdout",
     "output_type": "stream",
     "text": [
      "guava\n",
      "gulmohar\n",
      "sandalwood\n"
     ]
    },
    {
     "data": {
      "text/plain": [
       "[None, None, None]"
      ]
     },
     "execution_count": 81,
     "metadata": {},
     "output_type": "execute_result"
    }
   ],
   "source": [
    "thislist = [\"guava\",\"gulmohar\",\"sandalwood\"]\n",
    "[print(x)  for x in thislist]"
   ]
  },
  {
   "cell_type": "code",
   "execution_count": 127,
   "metadata": {},
   "outputs": [
    {
     "name": "stdout",
     "output_type": "stream",
     "text": [
      "0\n",
      "2\n",
      "4\n",
      "6\n",
      "8\n",
      "10\n",
      "12\n",
      "14\n",
      "16\n",
      "18\n",
      "20\n",
      "22\n",
      "24\n",
      "2 x 26 = 52\n"
     ]
    }
   ],
   "source": [
    "thislist = [x for x in range(25)]\n",
    "i = 0\n",
    "while i < len(thislist):\n",
    "  print(thislist[i])\n",
    "  i = i + 2\n",
    "print(f\"2 x {i} = {2*i}\") #my code"
   ]
  },
  {
   "cell_type": "code",
   "execution_count": 95,
   "metadata": {},
   "outputs": [
    {
     "name": "stdout",
     "output_type": "stream",
     "text": [
      "['cherry', 'chilly']\n"
     ]
    }
   ],
   "source": [
    "thislist = [\"apple\" , \"grapes\" , \"cherry\",\"chilly\",\"banana\",\"bottlegourd\"]\n",
    "newlist = []\n",
    "\n",
    "for x in thislist:\n",
    "    if \"c\" in x:\n",
    "        newlist.append(x)\n",
    "    \n",
    "print(newlist)"
   ]
  },
  {
   "cell_type": "code",
   "execution_count": 98,
   "metadata": {},
   "outputs": [
    {
     "name": "stdout",
     "output_type": "stream",
     "text": [
      "['cherry', 'chilly']\n"
     ]
    }
   ],
   "source": [
    "thislist = [\"apple\" , \"grapes\" , \"cherry\",\"chilly\",\"banana\",\"bottlegourd\"]\n",
    "newlist = [x for x in thislist if \"c\" in x]\n",
    "print(newlist)\n",
    "#shortcut for above code"
   ]
  },
  {
   "cell_type": "code",
   "execution_count": 99,
   "metadata": {},
   "outputs": [
    {
     "name": "stdout",
     "output_type": "stream",
     "text": [
      "['mango', 'pear', 'banana', 'watermelon']\n",
      "['apple', 'mango', 'pear', 'banana', 'watermelon']\n"
     ]
    }
   ],
   "source": [
    "fruits = [\"apple\", \"mango\", \"pear\",\"banana\",\"watermelon\"]\n",
    "newlist = [x for x in fruits if x != \"apple\"]\n",
    "print(newlist)\n",
    "print(fruits)"
   ]
  },
  {
   "cell_type": "code",
   "execution_count": 110,
   "metadata": {},
   "outputs": [
    {
     "name": "stdout",
     "output_type": "stream",
     "text": [
      "[0, 1, 2, 3, 4, 5, 6, 7, 8, 9]\n"
     ]
    }
   ],
   "source": [
    "\n",
    "newlist = [x for x in range(10)]\n",
    "print(newlist)\n"
   ]
  },
  {
   "cell_type": "code",
   "execution_count": 129,
   "metadata": {},
   "outputs": [
    {
     "name": "stdout",
     "output_type": "stream",
     "text": [
      "2 x 1 = 2\n",
      "2 x 2 = 4\n",
      "2 x 3 = 6\n",
      "2 x 4 = 8\n",
      "2 x 5 = 10\n",
      "2 x 6 = 12\n",
      "2 x 7 = 14\n",
      "2 x 8 = 16\n",
      "2 x 9 = 18\n",
      "2 x 10 = 20\n"
     ]
    }
   ],
   "source": [
    "for i in range(1, 11):\n",
    "    print(f\"2 x {i} = {2 * i}\") #chatgpt"
   ]
  },
  {
   "cell_type": "code",
   "execution_count": 131,
   "metadata": {},
   "outputs": [
    {
     "name": "stdout",
     "output_type": "stream",
     "text": [
      "['hello', 'hello', 'hello', 'hello']\n"
     ]
    }
   ],
   "source": [
    "list1 = [\"apple\" , \"mango\", \"banana\" , \"pear\" , ]\n",
    "list2 = ['hello' for x in list1]\n",
    "print(list2)"
   ]
  },
  {
   "cell_type": "code",
   "execution_count": 133,
   "metadata": {},
   "outputs": [
    {
     "name": "stdout",
     "output_type": "stream",
     "text": [
      "['apple', 'mango', 'orange', 'pear']\n",
      "['apple', 'mango', 'banana', 'pear']\n"
     ]
    }
   ],
   "source": [
    "list1 = [\"apple\" , \"mango\", \"banana\" , \"pear\"   ]\n",
    "list2=[x if x != \"banana\" else \"orange\" for x in list1]\n",
    "print(list2)\n",
    "print(list1)\n",
    "#tends to manipulate the results\n",
    "#\"Return the item if it is not banana, if it is banana return orange\""
   ]
  },
  {
   "cell_type": "code",
   "execution_count": 167,
   "metadata": {},
   "outputs": [
    {
     "name": "stdout",
     "output_type": "stream",
     "text": [
      "['pear', 'mango', 'banana', 'apple']\n",
      "['apple', 'banana', 'mango', 'pear']\n",
      "[45, 75, 85, 92, 100]\n",
      "['banana', 'cherry', 'Kiwi', 'Orange']\n"
     ]
    }
   ],
   "source": [
    "list1 = [\"apple\" , \"mango\", \"banana\" , \"pear\"]\n",
    "list1.sort(reverse = True) #takes aplhabatic order in account\n",
    "print(list1) # equation 1 \n",
    "list1.reverse()\n",
    "print(list1) #equation 1 is reversed irrespective of alphabet by reverse\n",
    "#customize sort function\n",
    "def myfunc(n):\n",
    "    return abs(n - 50)\n",
    "thislist = [100 , 75 , 45 , 85 , 92 ]\n",
    "thislist.sort(key = myfunc)\n",
    "print(thislist)#this  prints on basis how close the numbers are to 50\n",
    "thislist = [\"banana\", \"Orange\", \"Kiwi\", \"cherry\"]\n",
    "thislist.sort(key = str.lower)#if in change lower to upper it will sort the upper characters first\n",
    "print(thislist)\n",
    "#sorting in case insensitivity"
   ]
  },
  {
   "cell_type": "code",
   "execution_count": 169,
   "metadata": {},
   "outputs": [
    {
     "name": "stdout",
     "output_type": "stream",
     "text": [
      "['apple', 'mango', 'banana', 'grapes']\n",
      "[10, 23, 34, 45, 56, 67, 78, 99]\n"
     ]
    }
   ],
   "source": [
    "list1=[\"apple\",\"mango\",\"banana\",\"grapes\"]\n",
    "list2 = list1.copy()\n",
    "print(list2)\n",
    "mylist = [10,23,34,45,56,67,78,99]\n",
    "thislist = list(mylist)\n",
    "print(thislist)"
   ]
  },
  {
   "cell_type": "code",
   "execution_count": 172,
   "metadata": {},
   "outputs": [
    {
     "name": "stdout",
     "output_type": "stream",
     "text": [
      "['a', 'b', 'c', 1, 2, 3]\n",
      "['apple', 'banana', 'grapes', '1,2,3']\n",
      "[1, 2, 3, 4, 'a,f,v,g']\n"
     ]
    }
   ],
   "source": [
    "list1 = [\"a\", \"b\", \"c\"]\n",
    "list2 = [1, 2, 3]\n",
    "list3 = list1 + list2\n",
    "print(list3)\n",
    "\n",
    "mylist = [\"apple\",\"banana\",\"grapes\"]\n",
    "thislist = [\"1,2,3\"]\n",
    "for x in thislist:\n",
    "    mylist.append(x)\n",
    "print(mylist)\n",
    "\n",
    "Mylist = [1,2,3,4]\n",
    "Thislist = [\"a,f,v,g\"]\n",
    "Mylist.extend(Thislist)\n",
    "print(Mylist)"
   ]
  },
  {
   "cell_type": "code",
   "execution_count": 2,
   "metadata": {},
   "outputs": [
    {
     "name": "stdout",
     "output_type": "stream",
     "text": [
      "['apple', 'mango', 'banana']\n",
      "['apple', 'mango', 'banana']\n",
      "['apple', 'mango', 'banana']\n"
     ]
    }
   ],
   "source": [
    "thistuple = [\"apple\",\"mango\",\"banana\"]\n",
    "for i in range(len(thistuple)):\n",
    "    print(thistuple)\n"
   ]
  },
  {
   "cell_type": "code",
   "execution_count": 3,
   "metadata": {},
   "outputs": [
    {
     "name": "stdout",
     "output_type": "stream",
     "text": [
      "apple\n",
      "mango\n",
      "banana\n"
     ]
    }
   ],
   "source": [
    "thistuple = [\"apple\",\"mango\",\"banana\"]\n",
    "i=0\n",
    "while i < len(thistuple):\n",
    "    print(thistuple[i])\n",
    "    i=i+1"
   ]
  },
  {
   "cell_type": "code",
   "execution_count": 10,
   "metadata": {},
   "outputs": [
    {
     "name": "stdout",
     "output_type": "stream",
     "text": [
      "['apple', 'mango', 'dog', 'green', 'brown', 'black']\n",
      "['apple', 'mango', 'dog', 'green', 'brown', 'black', 'apple', 'mango', 'dog', 'green', 'brown', 'black', 'apple', 'mango', 'dog', 'green', 'brown', 'black', 'apple', 'mango', 'dog', 'green', 'brown', 'black', 'apple', 'mango', 'dog', 'green', 'brown', 'black']\n",
      "5\n",
      "4\n"
     ]
    }
   ],
   "source": [
    "tuple1=[\"apple\",\"mango\",\"dog\"]\n",
    "tuple2=[\"green\",\"brown\",\"black\"]\n",
    "tuple3=tuple1 + tuple2\n",
    "print(tuple3)\n",
    "tuple4 = 5 * tuple3\n",
    "print(tuple4)\n",
    "x = tuple4.count(\"black\")# number of times black appeared in  output\n",
    "print(x)\n",
    "y = tuple4.index(\"brown\")# tracks first occurence of  'brown' and shows its position\n",
    "print(y)"
   ]
  },
  {
   "cell_type": "code",
   "execution_count": 20,
   "metadata": {},
   "outputs": [
    {
     "name": "stdout",
     "output_type": "stream",
     "text": [
      "{'apple', 'banana', 'mango'}\n",
      "{'False', 'True'}\n",
      "{1, 2, 3}\n",
      "{'3', '1', '2'}\n",
      "{False, True}\n",
      "('apple', 'mango', 'banana')\n"
     ]
    }
   ],
   "source": [
    "myset = {\"apple\",\"mango\",\"banana\"}\n",
    "myset2 = {\"True\",\"False\"}\n",
    "myset3= {1,2,3} #data types of a set\n",
    "myset4 = {\"1\",\"2\",\"3\"}\n",
    "myset5 = {True,False,1,0}\n",
    "print(myset)\n",
    "print(myset2)\n",
    "print(myset3)\n",
    "print(myset4)\n",
    "print(myset5)\n",
    "thisset = ((\"apple\",\"mango\",\"banana\"))\n",
    "print(thisset)"
   ]
  },
  {
   "cell_type": "code",
   "execution_count": 34,
   "metadata": {},
   "outputs": [
    {
     "name": "stdout",
     "output_type": "stream",
     "text": [
      "cherry\n",
      "apple\n",
      "banana\n",
      "True\n",
      "False\n",
      "{'cherry', 'apple', 'banana', 'grape'}\n",
      "{'green', 'cherry', 'apple', 'banana', 'blue', 'white', 'grape'}\n"
     ]
    }
   ],
   "source": [
    "thisset = {\"apple\", \"banana\", \"cherry\"}\n",
    "\n",
    "for x in thisset:\n",
    "  print(x)\n",
    "print(\"banana\" in thisset)\n",
    "\n",
    "print(\"banana\" not in thisset)\n",
    "thisset.add(\"grape\")\n",
    "print(thisset)\n",
    "\n",
    "#upgrade from other  set\n",
    "tropical = {\"green\",\"blue\",\"white\"}\n",
    "thisset.update(tropical)\n",
    "print(thisset) \n",
    "#can be added to any iterable it need be any set"
   ]
  },
  {
   "cell_type": "code",
   "execution_count": 37,
   "metadata": {},
   "outputs": [
    {
     "name": "stdout",
     "output_type": "stream",
     "text": [
      "{'cherry', 'banana'}\n",
      "{'cherry', 'banana'}\n"
     ]
    }
   ],
   "source": [
    "thisset = {\"apple\", \"banana\", \"cherry\"}\n",
    "thisset.remove(\"apple\")\n",
    "print(thisset)#If the item to remove does not exist, remove() will raise an error.\n",
    "thisset.discard(\"tomato\")\n",
    "print(thisset)#If the item to remove does not exist, discard() will NOT raise an error."
   ]
  },
  {
   "cell_type": "code",
   "execution_count": 39,
   "metadata": {},
   "outputs": [
    {
     "name": "stdout",
     "output_type": "stream",
     "text": [
      "cherry\n",
      "{'apple', 'banana'}\n",
      "apple\n",
      "banana\n"
     ]
    }
   ],
   "source": [
    "thisset = {\"apple\", \"banana\", \"cherry\"}\n",
    "x=thisset.pop()\n",
    "print(x)\n",
    "print(thisset)\n",
    "for x in thisset:\n",
    "    print(x)"
   ]
  },
  {
   "cell_type": "code",
   "execution_count": 12,
   "metadata": {},
   "outputs": [
    {
     "name": "stdout",
     "output_type": "stream",
     "text": [
      "{1, 2, 3, 'grapes', 'apple', 'banana'}\n",
      "{1, 2, 3, 'grapes', 'banana', 'apple'}\n",
      "{1, 2, 3, 6, 7, 'grapes', 8, 9, 'white', 'green', 'banana', 'blue', 'apple'}\n",
      "{1, 2, 3, 'blue', 'black', 'green'}\n"
     ]
    }
   ],
   "source": [
    "set1= {\"apple\",\"banana\",\"grapes\"}\n",
    "set2 = {1,2,3}\n",
    "\n",
    "set3=set1.union(set2)\n",
    "print(set3)\n",
    "set4 = set2 | set3 # | same operator as union()\n",
    "print(set4)\n",
    "\n",
    "set5 = {6,7,8,9}\n",
    "set6 = {\"blue\",\"green\",\"white\"}\n",
    "set8= set1.union(set3,set5,set6)#join multile sets by union\n",
    "print(set8)\n",
    "#join set and a tuple \n",
    "thiset= {\"blue\",\"green\",\"black\"}\n",
    "thistuple = (1,2,3,)#The  | operator only allows you to join sets with sets, and not with other data types like you can with the  union() method.\n",
    "thiset = thiset.union(thistuple)\n",
    "print(thiset)"
   ]
  },
  {
   "cell_type": "code",
   "execution_count": 16,
   "metadata": {},
   "outputs": [
    {
     "name": "stdout",
     "output_type": "stream",
     "text": [
      "{'a', 'cherry', 'c', 'b', 'grapes', 'apple'}\n",
      "['a', 'apple', 'b', 'c', 'cherry', 'grapes']\n"
     ]
    }
   ],
   "source": [
    "#update() method insert one data type into another\n",
    "set1 = {\"apple\",\"grapes\",\"cherry\"}\n",
    "set2 = {\"a\",\"b\",\"c\"}\n",
    "set1.update(set2)\n",
    "print(set1)\n",
    "sorted_list = sorted(set1)\n",
    "print(sorted_list)"
   ]
  },
  {
   "cell_type": "code",
   "execution_count": 19,
   "metadata": {},
   "outputs": [
    {
     "name": "stdout",
     "output_type": "stream",
     "text": [
      "{'apple'}\n",
      "{'apple'}\n",
      "{False, 1, 'apple'}\n"
     ]
    }
   ],
   "source": [
    "#intersection new set which shows common elements\n",
    "set1 = {\"apple\",\"microsoft\",\"meta\"}\n",
    "set2 = {\"apple\",\"banana\",\"grapes\"}\n",
    "set3 = set1.intersection(set2)# we can use & operatr instead of intersection()\n",
    "print(set3) # this one returns a value\n",
    "\n",
    "#this way won't return any value\n",
    "set1.intersection_update(set2)\n",
    "print(set1)\n",
    "#hence this cannot be printed with another set \n",
    "\n",
    "set9 = {\"apple\", 1,  \"banana\", 0, \"cherry\"}\n",
    "set8 = {False, \"google\", 1, \"apple\", 2, True}\n",
    "\n",
    "set5 = set9.intersection(set8)\n",
    "\n",
    "print(set5)# this returns value"
   ]
  },
  {
   "cell_type": "code",
   "execution_count": 21,
   "metadata": {},
   "outputs": [
    {
     "name": "stdout",
     "output_type": "stream",
     "text": [
      "{'microsoft', 'meta'}\n"
     ]
    }
   ],
   "source": [
    "set1 = {\"apple\",\"microsoft\",\"meta\"}\n",
    "set2 = {\"apple\",\"banana\",\"grapes\"}\n",
    "\n",
    "set3 = set1.difference(set2) #eradicates the common element\n",
    "print(set3) # - operator can be used instead of difference()\n"
   ]
  },
  {
   "cell_type": "code",
   "execution_count": 26,
   "metadata": {},
   "outputs": [
    {
     "name": "stdout",
     "output_type": "stream",
     "text": [
      "{'microsoft', 'meta'}\n"
     ]
    }
   ],
   "source": [
    "set1 = {\"apple\",\"microsoft\",\"meta\"}\n",
    "set2 = {\"apple\",\"banana\",\"grapes\"}\n",
    "\n",
    "set1.difference_update(set2)\n",
    "print(set1)"
   ]
  },
  {
   "cell_type": "code",
   "execution_count": 24,
   "metadata": {},
   "outputs": [
    {
     "name": "stdout",
     "output_type": "stream",
     "text": [
      "{'meta', 'grapes', 'microsoft', 'banana'}\n",
      "{'meta', 'grapes', 'microsoft', 'banana'}\n"
     ]
    }
   ],
   "source": [
    "set1 = {\"apple\",\"microsoft\",\"meta\"}\n",
    "set2 = {\"apple\",\"banana\",\"grapes\"}\n",
    "\n",
    "set3 = set1.symmetric_difference(set2)# ^ operator can be use instead of symmetric_difference()\n",
    "\n",
    "print(set3)\n",
    "set1.symmetric_difference_update(set2)\n",
    "print(set1)"
   ]
  },
  {
   "cell_type": "code",
   "execution_count": 30,
   "metadata": {},
   "outputs": [
    {
     "name": "stdout",
     "output_type": "stream",
     "text": [
      "['apple', 'mango', 'banana', ['apple', 'microsoft', 'meta']]\n"
     ]
    }
   ],
   "source": [
    "list1 = [\"apple\",\"mango\",\"banana\"]\n",
    "list2 = [\"apple\",\"microsoft\",\"meta\"]\n",
    "\n",
    "list3 = list1.append(list2)\n",
    "list3 = list1\n",
    "print(list3)"
   ]
  },
  {
   "cell_type": "code",
   "execution_count": 43,
   "metadata": {},
   "outputs": [
    {
     "name": "stdout",
     "output_type": "stream",
     "text": [
      "{'brand': 'Ford', 'model': 'mustang', 'year': '1964', 'electric': False, 'colors': ['red', 'blue', 'green']}\n",
      "Ford\n",
      "5\n",
      "False\n",
      "dict_keys(['brand', 'model', 'year', 'electric', 'colors'])\n"
     ]
    }
   ],
   "source": [
    "thisdict  = {\n",
    "    \"brand\" : \"Ford\",\n",
    "    \"model\" : \"mustang\",\n",
    "    \"year\" : \"1964\",\n",
    "    \"electric\"  : False ,\n",
    "    \"colors\" : [\"red\",\"blue\",\"green\"]\n",
    "    \n",
    "}\n",
    "print(thisdict)\n",
    "print(thisdict[\"brand\"])\n",
    "print(len(thisdict))\n",
    "x = thisdict.get(\"electric\")\n",
    "print(x)\n",
    "y = thisdict.keys()\n",
    "print(y)"
   ]
  },
  {
   "cell_type": "code",
   "execution_count": 40,
   "metadata": {},
   "outputs": [
    {
     "name": "stdout",
     "output_type": "stream",
     "text": [
      "{'name': 'ford', 'age': 65, 'country': 'Norway'}\n"
     ]
    }
   ],
   "source": [
    "thisdict = dict(name = \"ford\", age = 65 , country = \"Norway\" )\n",
    "print(thisdict)"
   ]
  },
  {
   "cell_type": "code",
   "execution_count": 46,
   "metadata": {},
   "outputs": [
    {
     "name": "stdout",
     "output_type": "stream",
     "text": [
      "dict_keys(['brand', 'model', 'year', 'electric', 'colors'])\n",
      "dict_keys(['brand', 'model', 'year', 'electric', 'colors', 'color'])\n"
     ]
    }
   ],
   "source": [
    "thisdict  = {\n",
    "    \"brand\" : \"Ford\",\n",
    "    \"model\" : \"mustang\",\n",
    "    \"year\" : \"1964\",\n",
    "    \"electric\"  : False ,\n",
    "    \"colors\" : [\"red\",\"blue\",\"green\"]\n",
    "    \n",
    "}\n",
    "x = thisdict.keys()\n",
    "print(x)\n",
    "    \n",
    "thisdict[\"color\"] = \"white\"\n",
    "#same method is to be followed while adding indexxes to the dict\n",
    "print(x)"
   ]
  },
  {
   "cell_type": "code",
   "execution_count": 49,
   "metadata": {},
   "outputs": [
    {
     "name": "stdout",
     "output_type": "stream",
     "text": [
      "dict_values(['Ford', 'mustang', '1964', False, ['red', 'blue', 'green']])\n",
      "dict_values(['Ford', 'mustang', 2022, False, ['red', 'blue', 'green']])\n"
     ]
    }
   ],
   "source": [
    "thisdict  = {\n",
    "    \"brand\" : \"Ford\",\n",
    "    \"model\" : \"mustang\",\n",
    "    \"year\" : \"1964\",\n",
    "    \"electric\"  : False ,\n",
    "    \"colors\" : [\"red\",\"blue\",\"green\"]\n",
    "    \n",
    "}\n",
    "x = thisdict.values()\n",
    "print(x)\n",
    "thisdict[\"year\"] = 2022\n",
    "print(x)"
   ]
  },
  {
   "cell_type": "code",
   "execution_count": 50,
   "metadata": {},
   "outputs": [
    {
     "name": "stdout",
     "output_type": "stream",
     "text": [
      "yes ,'model' is one of keys in thisdict\n"
     ]
    }
   ],
   "source": [
    "thisdict  = {\n",
    "    \"brand\" : \"Ford\",\n",
    "    \"model\" : \"mustang\",\n",
    "    \"year\" : \"1964\",\n",
    "    \"electric\"  : False ,\n",
    "    \"colors\" : [\"red\",\"blue\",\"green\"]\n",
    "    \n",
    "}\n",
    "if \"model\" in thisdict:\n",
    "    print(\"yes ,'model' is one of keys in thisdict\")"
   ]
  },
  {
   "cell_type": "code",
   "execution_count": 62,
   "metadata": {},
   "outputs": [
    {
     "name": "stdout",
     "output_type": "stream",
     "text": [
      "{'brand': 'Ford', 'model': 'mustang', 'year': 1964, 'electric': False, 'colors': ['red', 'blue', 'green']}\n",
      "{'brand': 'Ford', 'model': 'mustang', 'year': 2022, 'electric': False, 'colors': ['red', 'blue', 'green']}\n",
      "{'brand': 'Ford', 'year': 2022, 'electric': False, 'colors': ['red', 'blue', 'green']}\n",
      "{'brand': 'Ford', 'year': 2022, 'electric': False}\n",
      "{}\n"
     ]
    }
   ],
   "source": [
    "thisdict  = {\n",
    "    \"brand\" : \"Ford\",\n",
    "    \"model\" : \"mustang\",\n",
    "    \"year\" : 1964,\n",
    "    \"electric\"  : False ,\n",
    "    \"colors\" : [\"red\",\"blue\",\"green\"]\n",
    "    \n",
    "}\n",
    "print(thisdict)\n",
    "thisdict.update({\"year\" : 2022})\n",
    "print(thisdict)\n",
    "thisdict.pop(\"model\") #del keyword also does the same job written as : del thisdict[\"model\"]\n",
    "print(thisdict)\n",
    "thisdict.popitem() #removes last item from the dictionary\n",
    "print(thisdict)\n",
    "thisdict.clear()\n",
    "print(thisdict)# del thisdict command issues a error becoz thisdict no longer exists"
   ]
  },
  {
   "cell_type": "code",
   "execution_count": 68,
   "metadata": {},
   "outputs": [
    {
     "name": "stdout",
     "output_type": "stream",
     "text": [
      "{'brand': 'Ford', 'model': 'mustang', 'year': '1964', 'electric': False, 'colors': ['red', 'blue', 'green']}\n",
      "Ford\n",
      "{'brand': 'Ford', 'model': 'mustang', 'year': '1964', 'electric': False, 'colors': ['red', 'blue', 'green']}\n",
      "mustang\n",
      "{'brand': 'Ford', 'model': 'mustang', 'year': '1964', 'electric': False, 'colors': ['red', 'blue', 'green']}\n",
      "1964\n",
      "{'brand': 'Ford', 'model': 'mustang', 'year': '1964', 'electric': False, 'colors': ['red', 'blue', 'green']}\n",
      "False\n",
      "{'brand': 'Ford', 'model': 'mustang', 'year': '1964', 'electric': False, 'colors': ['red', 'blue', 'green']}\n",
      "['red', 'blue', 'green']\n",
      "{'brand': 'Ford', 'model': 'mustang', 'year': '1964', 'electric': False, 'colors': ['red', 'blue', 'green']}\n"
     ]
    }
   ],
   "source": [
    "thisdict  = {\n",
    "    \"brand\" : \"Ford\",\n",
    "    \"model\" : \"mustang\",\n",
    "    \"year\" : \"1964\",\n",
    "    \"electric\"  : False ,\n",
    "    \"colors\" : [\"red\",\"blue\",\"green\"]\n",
    "    \n",
    "}\n",
    "for x  in thisdict:\n",
    "    print(thisdict)#loops whole dict\n",
    "    print(thisdict[x])#loops only elements\n",
    "   # for x in thisdict.values() and thisdict.key do the same job irrespectively\n",
    "# to for loop both type:\n",
    "#for x , y thisdict.items():\n",
    "#print(x,y)\n",
    "mydict = thisdict.copy()\n",
    "print(mydict) # can be done by mydict = dict(thisdict)"
   ]
  },
  {
   "cell_type": "code",
   "execution_count": 89,
   "metadata": {},
   "outputs": [
    {
     "name": "stdout",
     "output_type": "stream",
     "text": [
      "email\n",
      "{'name': 'email', 'year': 2004} ['name']\n",
      "child1\n",
      "name: email\n",
      "year: 2004\n",
      "child2\n",
      "name: facebook\n",
      "year: 2001\n",
      "child3\n",
      "name: linus\n",
      "year: 1997\n"
     ]
    }
   ],
   "source": [
    "myfamily = {\n",
    "    \"child1\" : {\n",
    "        \"name\": \"email\",\n",
    "        \"year\" : 2004\n",
    "    },\n",
    "    \"child2\" : {\n",
    "        \"name\" : \"facebook\",\n",
    "        \"year\" : 2001\n",
    "    },\n",
    "    \"child3\" :\n",
    "    {\n",
    "        \"name\"  : \"linus\",\n",
    "        \"year\" : 1997\n",
    "    }\n",
    "}\n",
    "\n",
    "\n",
    "#acces items\n",
    "print(myfamily[\"child1\"][\"name\"])\n",
    "print(myfamily[\"child1\"],[\"name\"])\n",
    "#gives unhashable error when mistakenly created more than one square brackets\n",
    "for x , obj in myfamily.items():\n",
    "    print(x) #only this ValueError: too many values to unpack (expected 2)\n",
    "    #with this is correction\n",
    "    for y in obj:\n",
    "        print(y + ':' , obj[y])"
   ]
  },
  {
   "cell_type": "code",
   "execution_count": 264,
   "metadata": {},
   "outputs": [
    {
     "name": "stdout",
     "output_type": "stream",
     "text": [
      "Housie play numbers are:\n",
      "[101, 40, 38, 80, 16, 6, 34, 2, 50, 10, 12, 58, 52, 91, 46, 49, 67, 55, 41, 27, 5, 23, 59, 65, 71, 47, 13, 33, 97, 17, 44, 54, 88, 69, 48, 26, 78, 63, 99, 11, 60, 90, 4, 19, 25, 3, 36, 9, 57, 51, 66, 82, 77, 81, 22, 42, 45, 96, 98, 61, 64, 92, 32, 84, 8, 31, 24, 95, 93, 7, 70, 87, 20, 29, 18, 62, 74, 94, 30, 15, 56, 28, 72, 85, 73, 14, 86, 75, 53, 68, 76, 37, 43, 79, 39, 83, 89, 1, 21, 100, 35]\n"
     ]
    }
   ],
   "source": [
    "import random\n",
    "\n",
    "randomList = []\n",
    "\n",
    "# Generate 10 unique random numbers between 1 and 100\n",
    "while len(randomList) < 101:\n",
    "    r = random.randint(1, 101)\n",
    "    if r not in randomList:\n",
    "        randomList.append(r)\n",
    "\n",
    "print(\"Housie play numbers are:\")\n",
    "print(randomList)"
   ]
  },
  {
   "cell_type": "code",
   "execution_count": 268,
   "metadata": {},
   "outputs": [
    {
     "name": "stdout",
     "output_type": "stream",
     "text": [
      "101\n"
     ]
    }
   ],
   "source": [
    "x = [101, 40, 38, 80, 16, 6, 34, 2, 50, 10, 12, 58, 52, 91, 46, 49, 67, 55, 41, 27, 5, 23, 59, 65, 71, 47, 13, 33, 97, 17, 44, 54, 88, 69, 48, 26, 78, 63, 99, 11, 60, 90, 4, 19, 25, 3, 36, 9, 57, 51, 66, 82, 77, 81, 22, 42, 45, 96, 98, 61, 64, 92, 32, 84, 8, 31, 24, 95, 93, 7, 70, 87, 20, 29, 18, 62, 74, 94, 30, 15, 56, 28, 72, 85, 73, 14, 86, 75, 53, 68, 76, 37, 43, 79, 39, 83, 89, 1, 21, 100, 35]\n",
    "count = len(x)\n",
    "print(count)"
   ]
  },
  {
   "cell_type": "code",
   "execution_count": null,
   "metadata": {},
   "outputs": [],
   "source": []
  }
 ],
 "metadata": {
  "kernelspec": {
   "display_name": "Python 3",
   "language": "python",
   "name": "python3"
  },
  "language_info": {
   "codemirror_mode": {
    "name": "ipython",
    "version": 3
   },
   "file_extension": ".py",
   "mimetype": "text/x-python",
   "name": "python",
   "nbconvert_exporter": "python",
   "pygments_lexer": "ipython3",
   "version": "3.8.3"
  }
 },
 "nbformat": 4,
 "nbformat_minor": 4
}
